{
  "nbformat": 4,
  "nbformat_minor": 0,
  "metadata": {
    "colab": {
      "name": "KMNIST_ensemble_transfer.ipynb",
      "version": "0.3.2",
      "provenance": [],
      "collapsed_sections": [],
      "toc_visible": true,
      "include_colab_link": true
    },
    "kernelspec": {
      "name": "python3",
      "display_name": "Python 3"
    },
    "accelerator": "GPU"
  },
  "cells": [
    {
      "cell_type": "markdown",
      "metadata": {
        "id": "view-in-github",
        "colab_type": "text"
      },
      "source": [
        "<a href=\"https://colab.research.google.com/github/msc-acse/acse-8-miniproject-sigmoid/blob/master/KMNIST_ensemble_transfer.ipynb\" target=\"_parent\"><img src=\"https://colab.research.google.com/assets/colab-badge.svg\" alt=\"Open In Colab\"/></a>"
      ]
    },
    {
      "cell_type": "markdown",
      "metadata": {
        "id": "p5iLEer-SPyL",
        "colab_type": "text"
      },
      "source": [
        "This notebook presents the implementations of probabilistic ensemble voting and transfer learning"
      ]
    },
    {
      "cell_type": "markdown",
      "metadata": {
        "id": "akREK8lZ3RiC",
        "colab_type": "text"
      },
      "source": [
        "# Setting Up Working Environment"
      ]
    },
    {
      "cell_type": "markdown",
      "metadata": {
        "id": "zgSZIQwb4wSN",
        "colab_type": "text"
      },
      "source": [
        "## Sync to GitHub"
      ]
    },
    {
      "cell_type": "code",
      "metadata": {
        "id": "5kLRSiJU5I3i",
        "colab_type": "code",
        "outputId": "e3403a7a-9e68-46f2-d50d-2df1bbc45d68",
        "colab": {
          "base_uri": "https://localhost:8080/",
          "height": 170
        }
      },
      "source": [
        "from getpass import getpass\n",
        "import os\n",
        "\n",
        "user = getpass('github user')\n",
        "password = getpass('github password')\n",
        "os.environ['GITHUB_AUTH'] = user + ':' + password\n",
        "\n",
        "!rm -rf sigmoid\n",
        "!git clone https://$GITHUB_AUTH@github.com/msc-acse/acse-8-miniproject-sigmoid.git sigmoid"
      ],
      "execution_count": 1,
      "outputs": [
        {
          "output_type": "stream",
          "text": [
            "github user··········\n",
            "github password··········\n",
            "Cloning into 'sigmoid'...\n",
            "remote: Enumerating objects: 78, done.\u001b[K\n",
            "remote: Counting objects: 100% (78/78), done.\u001b[K\n",
            "remote: Compressing objects: 100% (73/73), done.\u001b[K\n",
            "remote: Total 213 (delta 34), reused 14 (delta 5), pack-reused 135\u001b[K\n",
            "Receiving objects: 100% (213/213), 25.84 MiB | 23.77 MiB/s, done.\n",
            "Resolving deltas: 100% (80/80), done.\n"
          ],
          "name": "stdout"
        }
      ]
    },
    {
      "cell_type": "markdown",
      "metadata": {
        "id": "bsIvGMIi4oBX",
        "colab_type": "text"
      },
      "source": [
        "## Sync to Google Drive"
      ]
    },
    {
      "cell_type": "code",
      "metadata": {
        "id": "hL26tq3Dc-FF",
        "colab_type": "code",
        "outputId": "f954ac59-c32b-40aa-e3b4-5940f7455d8d",
        "colab": {
          "base_uri": "https://localhost:8080/",
          "height": 54
        }
      },
      "source": [
        "from google.colab import drive\n",
        "drive.mount(\"/content/gdrive/\")"
      ],
      "execution_count": 2,
      "outputs": [
        {
          "output_type": "stream",
          "text": [
            "Drive already mounted at /content/gdrive/; to attempt to forcibly remount, call drive.mount(\"/content/gdrive/\", force_remount=True).\n"
          ],
          "name": "stdout"
        }
      ]
    },
    {
      "cell_type": "markdown",
      "metadata": {
        "id": "UklPFvET4rZJ",
        "colab_type": "text"
      },
      "source": [
        "## Install Dependencies and CUDA"
      ]
    },
    {
      "cell_type": "code",
      "metadata": {
        "id": "NH7olt6wdI6c",
        "colab_type": "code",
        "outputId": "c72873ec-67fc-4359-c37e-d0558a2c5dd9",
        "colab": {
          "base_uri": "https://localhost:8080/",
          "height": 1601
        }
      },
      "source": [
        "%pylab inline\n",
        "!pip install pycm albumentations\n",
        "!pip install pycm livelossplot\n",
        "\n",
        "from livelossplot import PlotLosses\n",
        "import numpy as np\n",
        "import pandas as pd\n",
        "from sklearn.metrics import accuracy_score\n",
        "from sklearn.model_selection import StratifiedShuffleSplit, StratifiedKFold\n",
        "import torch\n",
        "import torch.nn as nn\n",
        "import torch.nn.functional as F\n",
        "from torch.utils.data import TensorDataset, DataLoader\n",
        "import torchvision.transforms as transforms\n",
        "from torchvision import models\n",
        "import time\n",
        "import random\n",
        "import copy\n",
        "\n",
        "device = 'cpu'\n",
        "if torch.cuda.device_count() > 0 and torch.cuda.is_available():\n",
        "    print(\"Cuda installed! Running on GPU!\")\n",
        "    device = 'cuda'\n",
        "else:\n",
        "    print(\"No GPU available!\")"
      ],
      "execution_count": 3,
      "outputs": [
        {
          "output_type": "stream",
          "text": [
            "Populating the interactive namespace from numpy and matplotlib\n",
            "Collecting pycm\n",
            "\u001b[?25l  Downloading https://files.pythonhosted.org/packages/35/86/14ebc41098fb81eb7e458d234622a9ce50857bb7d6f350b29765273c00f5/pycm-2.1-py2.py3-none-any.whl (45kB)\n",
            "\u001b[K     |████████████████████████████████| 51kB 3.6MB/s \n",
            "\u001b[?25hRequirement already satisfied: albumentations in /usr/local/lib/python3.6/dist-packages (0.1.12)\n",
            "Collecting art>=1.8 (from pycm)\n",
            "\u001b[?25l  Downloading https://files.pythonhosted.org/packages/6e/cb/12329146ae052d8cc797edec123f87ff54f349af34438d01f1ffe7fc6e1c/art-3.6-py2.py3-none-any.whl (489kB)\n",
            "\u001b[K     |████████████████████████████████| 491kB 14.5MB/s \n",
            "\u001b[?25hRequirement already satisfied: numpy>=1.9.0 in /usr/local/lib/python3.6/dist-packages (from pycm) (1.16.3)\n",
            "Requirement already satisfied: opencv-python in /usr/local/lib/python3.6/dist-packages (from albumentations) (3.4.5.20)\n",
            "Collecting imgaug<0.2.7,>=0.2.5 (from albumentations)\n",
            "\u001b[?25l  Downloading https://files.pythonhosted.org/packages/ad/2e/748dbb7bb52ec8667098bae9b585f448569ae520031932687761165419a2/imgaug-0.2.6.tar.gz (631kB)\n",
            "\u001b[K     |████████████████████████████████| 634kB 50.1MB/s \n",
            "\u001b[?25hRequirement already satisfied: scipy in /usr/local/lib/python3.6/dist-packages (from albumentations) (1.3.0)\n",
            "Collecting coverage>=4.1 (from art>=1.8->pycm)\n",
            "\u001b[?25l  Downloading https://files.pythonhosted.org/packages/f8/4e/f28fc04019bac97d301512d904992791569234a06826cd420f78fba9a361/coverage-4.5.3-cp36-cp36m-manylinux1_x86_64.whl (205kB)\n",
            "\u001b[K     |████████████████████████████████| 215kB 59.9MB/s \n",
            "\u001b[?25hRequirement already satisfied: scikit-image>=0.11.0 in /usr/local/lib/python3.6/dist-packages (from imgaug<0.2.7,>=0.2.5->albumentations) (0.15.0)\n",
            "Requirement already satisfied: six in /usr/local/lib/python3.6/dist-packages (from imgaug<0.2.7,>=0.2.5->albumentations) (1.12.0)\n",
            "Requirement already satisfied: networkx>=2.0 in /usr/local/lib/python3.6/dist-packages (from scikit-image>=0.11.0->imgaug<0.2.7,>=0.2.5->albumentations) (2.3)\n",
            "Requirement already satisfied: pillow>=4.3.0 in /usr/local/lib/python3.6/dist-packages (from scikit-image>=0.11.0->imgaug<0.2.7,>=0.2.5->albumentations) (4.3.0)\n",
            "Requirement already satisfied: matplotlib!=3.0.0,>=2.0.0 in /usr/local/lib/python3.6/dist-packages (from scikit-image>=0.11.0->imgaug<0.2.7,>=0.2.5->albumentations) (3.0.3)\n",
            "Requirement already satisfied: PyWavelets>=0.4.0 in /usr/local/lib/python3.6/dist-packages (from scikit-image>=0.11.0->imgaug<0.2.7,>=0.2.5->albumentations) (1.0.3)\n",
            "Requirement already satisfied: imageio>=2.0.1 in /usr/local/lib/python3.6/dist-packages (from scikit-image>=0.11.0->imgaug<0.2.7,>=0.2.5->albumentations) (2.4.1)\n",
            "Requirement already satisfied: decorator>=4.3.0 in /usr/local/lib/python3.6/dist-packages (from networkx>=2.0->scikit-image>=0.11.0->imgaug<0.2.7,>=0.2.5->albumentations) (4.4.0)\n",
            "Requirement already satisfied: olefile in /usr/local/lib/python3.6/dist-packages (from pillow>=4.3.0->scikit-image>=0.11.0->imgaug<0.2.7,>=0.2.5->albumentations) (0.46)\n",
            "Requirement already satisfied: kiwisolver>=1.0.1 in /usr/local/lib/python3.6/dist-packages (from matplotlib!=3.0.0,>=2.0.0->scikit-image>=0.11.0->imgaug<0.2.7,>=0.2.5->albumentations) (1.1.0)\n",
            "Requirement already satisfied: cycler>=0.10 in /usr/local/lib/python3.6/dist-packages (from matplotlib!=3.0.0,>=2.0.0->scikit-image>=0.11.0->imgaug<0.2.7,>=0.2.5->albumentations) (0.10.0)\n",
            "Requirement already satisfied: python-dateutil>=2.1 in /usr/local/lib/python3.6/dist-packages (from matplotlib!=3.0.0,>=2.0.0->scikit-image>=0.11.0->imgaug<0.2.7,>=0.2.5->albumentations) (2.5.3)\n",
            "Requirement already satisfied: pyparsing!=2.0.4,!=2.1.2,!=2.1.6,>=2.0.1 in /usr/local/lib/python3.6/dist-packages (from matplotlib!=3.0.0,>=2.0.0->scikit-image>=0.11.0->imgaug<0.2.7,>=0.2.5->albumentations) (2.4.0)\n",
            "Requirement already satisfied: setuptools in /usr/local/lib/python3.6/dist-packages (from kiwisolver>=1.0.1->matplotlib!=3.0.0,>=2.0.0->scikit-image>=0.11.0->imgaug<0.2.7,>=0.2.5->albumentations) (41.0.1)\n",
            "Building wheels for collected packages: imgaug\n",
            "  Building wheel for imgaug (setup.py) ... \u001b[?25l\u001b[?25hdone\n",
            "  Stored in directory: /root/.cache/pip/wheels/97/ec/48/0d25896c417b715af6236dbcef8f0bed136a1a5e52972fc6d0\n",
            "Successfully built imgaug\n",
            "\u001b[31mERROR: datascience 0.10.6 has requirement coverage==3.7.1, but you'll have coverage 4.5.3 which is incompatible.\u001b[0m\n",
            "\u001b[31mERROR: datascience 0.10.6 has requirement folium==0.2.1, but you'll have folium 0.8.3 which is incompatible.\u001b[0m\n",
            "\u001b[31mERROR: coveralls 0.5 has requirement coverage<3.999,>=3.6, but you'll have coverage 4.5.3 which is incompatible.\u001b[0m\n",
            "Installing collected packages: coverage, art, pycm, imgaug\n",
            "  Found existing installation: coverage 3.7.1\n",
            "    Uninstalling coverage-3.7.1:\n",
            "      Successfully uninstalled coverage-3.7.1\n",
            "  Found existing installation: imgaug 0.2.9\n",
            "    Uninstalling imgaug-0.2.9:\n",
            "      Successfully uninstalled imgaug-0.2.9\n",
            "Successfully installed art-3.6 coverage-4.5.3 imgaug-0.2.6 pycm-2.1\n",
            "Requirement already satisfied: pycm in /usr/local/lib/python3.6/dist-packages (2.1)\n",
            "Collecting livelossplot\n",
            "  Downloading https://files.pythonhosted.org/packages/55/2b/4be0b3de085cfacf25fc1934f391bd85f90565db4f110f3f7b2220666b09/livelossplot-0.4.0-py3-none-any.whl\n",
            "Requirement already satisfied: numpy>=1.9.0 in /usr/local/lib/python3.6/dist-packages (from pycm) (1.16.3)\n",
            "Requirement already satisfied: art>=1.8 in /usr/local/lib/python3.6/dist-packages (from pycm) (3.6)\n",
            "Requirement already satisfied: matplotlib in /usr/local/lib/python3.6/dist-packages (from livelossplot) (3.0.3)\n",
            "Requirement already satisfied: notebook in /usr/local/lib/python3.6/dist-packages (from livelossplot) (5.2.2)\n",
            "Requirement already satisfied: coverage>=4.1 in /usr/local/lib/python3.6/dist-packages (from art>=1.8->pycm) (4.5.3)\n",
            "Requirement already satisfied: cycler>=0.10 in /usr/local/lib/python3.6/dist-packages (from matplotlib->livelossplot) (0.10.0)\n",
            "Requirement already satisfied: python-dateutil>=2.1 in /usr/local/lib/python3.6/dist-packages (from matplotlib->livelossplot) (2.5.3)\n",
            "Requirement already satisfied: kiwisolver>=1.0.1 in /usr/local/lib/python3.6/dist-packages (from matplotlib->livelossplot) (1.1.0)\n",
            "Requirement already satisfied: pyparsing!=2.0.4,!=2.1.2,!=2.1.6,>=2.0.1 in /usr/local/lib/python3.6/dist-packages (from matplotlib->livelossplot) (2.4.0)\n",
            "Requirement already satisfied: terminado>=0.3.3; sys_platform != \"win32\" in /usr/local/lib/python3.6/dist-packages (from notebook->livelossplot) (0.8.2)\n",
            "Requirement already satisfied: nbformat in /usr/local/lib/python3.6/dist-packages (from notebook->livelossplot) (4.4.0)\n",
            "Requirement already satisfied: tornado>=4 in /usr/local/lib/python3.6/dist-packages (from notebook->livelossplot) (4.5.3)\n",
            "Requirement already satisfied: traitlets>=4.2.1 in /usr/local/lib/python3.6/dist-packages (from notebook->livelossplot) (4.3.2)\n",
            "Requirement already satisfied: jupyter-core in /usr/local/lib/python3.6/dist-packages (from notebook->livelossplot) (4.4.0)\n",
            "Requirement already satisfied: ipython-genutils in /usr/local/lib/python3.6/dist-packages (from notebook->livelossplot) (0.2.0)\n",
            "Requirement already satisfied: jupyter-client in /usr/local/lib/python3.6/dist-packages (from notebook->livelossplot) (5.2.4)\n",
            "Requirement already satisfied: nbconvert in /usr/local/lib/python3.6/dist-packages (from notebook->livelossplot) (5.5.0)\n",
            "Requirement already satisfied: ipykernel in /usr/local/lib/python3.6/dist-packages (from notebook->livelossplot) (4.6.1)\n",
            "Requirement already satisfied: jinja2 in /usr/local/lib/python3.6/dist-packages (from notebook->livelossplot) (2.10.1)\n",
            "Requirement already satisfied: six in /usr/local/lib/python3.6/dist-packages (from cycler>=0.10->matplotlib->livelossplot) (1.12.0)\n",
            "Requirement already satisfied: setuptools in /usr/local/lib/python3.6/dist-packages (from kiwisolver>=1.0.1->matplotlib->livelossplot) (41.0.1)\n",
            "Requirement already satisfied: ptyprocess; os_name != \"nt\" in /usr/local/lib/python3.6/dist-packages (from terminado>=0.3.3; sys_platform != \"win32\"->notebook->livelossplot) (0.6.0)\n",
            "Requirement already satisfied: jsonschema!=2.5.0,>=2.4 in /usr/local/lib/python3.6/dist-packages (from nbformat->notebook->livelossplot) (2.6.0)\n",
            "Requirement already satisfied: decorator in /usr/local/lib/python3.6/dist-packages (from traitlets>=4.2.1->notebook->livelossplot) (4.4.0)\n",
            "Requirement already satisfied: pyzmq>=13 in /usr/local/lib/python3.6/dist-packages (from jupyter-client->notebook->livelossplot) (17.0.0)\n",
            "Requirement already satisfied: mistune>=0.8.1 in /usr/local/lib/python3.6/dist-packages (from nbconvert->notebook->livelossplot) (0.8.4)\n",
            "Requirement already satisfied: pygments in /usr/local/lib/python3.6/dist-packages (from nbconvert->notebook->livelossplot) (2.1.3)\n",
            "Requirement already satisfied: testpath in /usr/local/lib/python3.6/dist-packages (from nbconvert->notebook->livelossplot) (0.4.2)\n",
            "Requirement already satisfied: bleach in /usr/local/lib/python3.6/dist-packages (from nbconvert->notebook->livelossplot) (3.1.0)\n",
            "Requirement already satisfied: entrypoints>=0.2.2 in /usr/local/lib/python3.6/dist-packages (from nbconvert->notebook->livelossplot) (0.3)\n",
            "Requirement already satisfied: defusedxml in /usr/local/lib/python3.6/dist-packages (from nbconvert->notebook->livelossplot) (0.6.0)\n",
            "Requirement already satisfied: pandocfilters>=1.4.1 in /usr/local/lib/python3.6/dist-packages (from nbconvert->notebook->livelossplot) (1.4.2)\n",
            "Requirement already satisfied: ipython>=4.0.0 in /usr/local/lib/python3.6/dist-packages (from ipykernel->notebook->livelossplot) (5.5.0)\n",
            "Requirement already satisfied: MarkupSafe>=0.23 in /usr/local/lib/python3.6/dist-packages (from jinja2->notebook->livelossplot) (1.1.1)\n",
            "Requirement already satisfied: webencodings in /usr/local/lib/python3.6/dist-packages (from bleach->nbconvert->notebook->livelossplot) (0.5.1)\n",
            "Requirement already satisfied: pexpect; sys_platform != \"win32\" in /usr/local/lib/python3.6/dist-packages (from ipython>=4.0.0->ipykernel->notebook->livelossplot) (4.7.0)\n",
            "Requirement already satisfied: prompt-toolkit<2.0.0,>=1.0.4 in /usr/local/lib/python3.6/dist-packages (from ipython>=4.0.0->ipykernel->notebook->livelossplot) (1.0.16)\n",
            "Requirement already satisfied: simplegeneric>0.8 in /usr/local/lib/python3.6/dist-packages (from ipython>=4.0.0->ipykernel->notebook->livelossplot) (0.8.1)\n",
            "Requirement already satisfied: pickleshare in /usr/local/lib/python3.6/dist-packages (from ipython>=4.0.0->ipykernel->notebook->livelossplot) (0.7.5)\n",
            "Requirement already satisfied: wcwidth in /usr/local/lib/python3.6/dist-packages (from prompt-toolkit<2.0.0,>=1.0.4->ipython>=4.0.0->ipykernel->notebook->livelossplot) (0.1.7)\n",
            "Installing collected packages: livelossplot\n",
            "Successfully installed livelossplot-0.4.0\n",
            "Cuda installed! Running on GPU!\n"
          ],
          "name": "stdout"
        }
      ]
    },
    {
      "cell_type": "markdown",
      "metadata": {
        "id": "220oINBu3rOf",
        "colab_type": "text"
      },
      "source": [
        "## Import Tools to Perform Supervised Learning on KMNIST"
      ]
    },
    {
      "cell_type": "code",
      "metadata": {
        "id": "SINbqBj13p3n",
        "colab_type": "code",
        "colab": {}
      },
      "source": [
        "%load_ext autoreload\n",
        "%reload_ext autoreload\n",
        "%autoreload 2\n",
        "from sigmoid.KMNISTLearning import *"
      ],
      "execution_count": 0,
      "outputs": []
    },
    {
      "cell_type": "markdown",
      "metadata": {
        "id": "mlzgfH7v3Y78",
        "colab_type": "text"
      },
      "source": [
        "# Define Model Classes"
      ]
    },
    {
      "cell_type": "code",
      "metadata": {
        "id": "WkrdxWyddQog",
        "colab_type": "code",
        "colab": {}
      },
      "source": [
        "class LeNet5(nn.Module):\n",
        "  def __init__(self):\n",
        "    super(LeNet5, self).__init__()\n",
        "    # The implementation of the LeNet5 architecture\n",
        "    self.c1 = nn.Conv2d(1, 6, kernel_size=5, stride=1, padding=2)\n",
        "    self.s2 = nn.MaxPool2d(kernel_size=2, stride=2)\n",
        "    self.c3 = nn.Conv2d(6, 16, kernel_size=5, stride=1)\n",
        "    self.s4 = nn.MaxPool2d(kernel_size=2, stride=2)\n",
        "    self.c5 = nn.Linear(16*5*5, 120)\n",
        "    self.f6 = nn.Linear(120, 84)\n",
        "    self.output = nn.Linear(84, 10)\n",
        "    self.act = nn.ReLU()\n",
        "    \n",
        "  def forward(self, x):\n",
        "    # Applying the ReLU activation function throughout the net\n",
        "    x = self.act(self.c1(x))\n",
        "    x = self.act(self.s2(x))\n",
        "    x = self.act(self.c3(x))\n",
        "    x = self.act(self.s4(x))\n",
        "    x = x.view(-1, x.size(1)*x.size(2)*x.size(3))\n",
        "    x = self.act(self.c5(x))\n",
        "    x = self.act(self.f6(x))\n",
        "    return self.output(x)"
      ],
      "execution_count": 0,
      "outputs": []
    },
    {
      "cell_type": "code",
      "metadata": {
        "id": "8Yb5cFLCdlww",
        "colab_type": "code",
        "colab": {}
      },
      "source": [
        "class mLeNet5(nn.Module):\n",
        "  def __init__(self):\n",
        "    super(mLeNet5, self).__init__()\n",
        "    self.c1 = nn.Conv2d(1, 6, kernel_size=5, stride=1, padding=2)\n",
        "    self.s2 = nn.MaxPool2d(kernel_size=2, stride=2)\n",
        "    self.c3 = nn.Conv2d(6, 16, kernel_size=5, stride=1)\n",
        "    self.s4 = nn.MaxPool2d(kernel_size=2, stride=2)\n",
        "    self.c5 = nn.Linear(16*5*5, 1150)\n",
        "    self.f6 = nn.Linear(1150, 256)\n",
        "    self.output = nn.Linear(256, 10)\n",
        "    self.act = nn.ReLU()\n",
        "    self.dp = nn.Dropout(0.5)\n",
        "\n",
        "  def forward(self, x):\n",
        "    x = self.act(self.c1(x))\n",
        "    x = self.act(self.s2(x))\n",
        "    x = self.act(self.c3(x))\n",
        "    x = self.act(self.s4(x))\n",
        "    x = x.view(-1, x.size(1)*x.size(2)*x.size(3))\n",
        "    x = self.act(self.c5(x))\n",
        "    x = self.dp(x)\n",
        "    x = self.act(self.f6(x))\n",
        "    x = self.dp(x)\n",
        "    return self.output(x)"
      ],
      "execution_count": 0,
      "outputs": []
    },
    {
      "cell_type": "code",
      "metadata": {
        "id": "kAJ-xnwtdmeA",
        "colab_type": "code",
        "colab": {}
      },
      "source": [
        "class AlexNetMod(nn.Module):\n",
        "\n",
        "    def __init__(self, num_classes=1000):\n",
        "        super(AlexNetMod, self).__init__()\n",
        "        self.features = nn.Sequential(\n",
        "            nn.Conv2d(1, 256, kernel_size=4, padding=0, stride=2),\n",
        "            nn.ReLU(inplace=True),\n",
        "            nn.Conv2d(256, 256, kernel_size=3, padding=1),\n",
        "            nn.ReLU(inplace=True),\n",
        "            nn.MaxPool2d(kernel_size=3, stride=2),\n",
        "        )\n",
        "        self.classifier = nn.Sequential(\n",
        "            nn.Dropout(),\n",
        "            nn.Linear(256 * 6 * 6, 4096),\n",
        "            nn.ReLU(inplace=True),\n",
        "            nn.Dropout(),\n",
        "            nn.Linear(4096, 4096),\n",
        "            nn.ReLU(inplace=True),\n",
        "            nn.Linear(4096, num_classes),\n",
        "        )\n",
        "\n",
        "    def forward(self, x):\n",
        "        x = self.features(x)\n",
        "        x = x.view(x.size(0), 256 * 6 * 6)\n",
        "        x = self.classifier(x)\n",
        "        return x"
      ],
      "execution_count": 0,
      "outputs": []
    },
    {
      "cell_type": "code",
      "metadata": {
        "id": "iHG2Fs4mElmN",
        "colab_type": "code",
        "colab": {}
      },
      "source": [
        "class DeepAlexNetMod(nn.Module):\n",
        "\n",
        "    def __init__(self, num_classes=1000,train=True):\n",
        "        super(DeepAlexNetMod, self).__init__()\n",
        "        self.features = nn.Sequential(\n",
        "            nn.Conv2d(1, 256, kernel_size=4, padding=0, stride=2),\n",
        "            nn.BatchNorm2d(256),\n",
        "            nn.ReLU(inplace=True), \n",
        "            \n",
        "            nn.Conv2d(256, 384, kernel_size=3, padding=1),\n",
        "            nn.ReLU(inplace=True),\n",
        "            \n",
        "            nn.Conv2d(384, 256, kernel_size=3, padding=1),\n",
        "            nn.ReLU(inplace=True),\n",
        "            \n",
        "            nn.Conv2d(256, 256, kernel_size=3, padding=1),\n",
        "            nn.BatchNorm2d(256),\n",
        "            nn.ReLU(inplace=True),\n",
        "            \n",
        "            nn.MaxPool2d(kernel_size=3, stride=2),\n",
        "        ) \n",
        "        self.classifier = nn.Sequential(\n",
        "            nn.Dropout(),\n",
        "            nn.Linear(256 * 6 * 6, 4096),\n",
        "            nn.ReLU(inplace=True),\n",
        "            nn.Dropout(),\n",
        "            nn.Linear(4096, 4096),\n",
        "            nn.ReLU(inplace=True),\n",
        "            nn.Linear(4096, num_classes),\n",
        "        )\n",
        "        \n",
        "    def forward(self, x):\n",
        "        x = self.features(x)\n",
        "        #print(x.shape)\n",
        "        x = x.view(x.size(0), 256 * 6 * 6)\n",
        "        x = self.classifier(x)\n",
        "        return x"
      ],
      "execution_count": 0,
      "outputs": []
    },
    {
      "cell_type": "code",
      "metadata": {
        "id": "8hcbSufyElRo",
        "colab_type": "code",
        "colab": {}
      },
      "source": [
        "class SDeepAlexNetMod(nn.Module):\n",
        "\n",
        "    def __init__(self, num_classes=1000):\n",
        "        super(SDeepAlexNetMod, self).__init__()\n",
        "        self.features = nn.Sequential(\n",
        "            nn.Conv2d(1, 256, kernel_size=4, stride=1, padding=2),\n",
        "            nn.BatchNorm2d(256),\n",
        "            nn.ReLU(inplace=True),\n",
        "            nn.MaxPool2d(kernel_size=3, stride=2),\n",
        "            \n",
        "            nn.Conv2d(256, 384, kernel_size=5, padding=2),\n",
        "            nn.BatchNorm2d(384),\n",
        "            nn.ReLU(inplace=True),\n",
        "            \n",
        "            nn.Conv2d(384, 384, kernel_size=3, padding=1),\n",
        "            nn.ReLU(inplace=True),\n",
        "            \n",
        "            nn.Conv2d(384, 256, kernel_size=3, padding=1),\n",
        "            nn.ReLU(inplace=True),\n",
        "            \n",
        "            nn.Conv2d(256, 256, kernel_size=3, padding=1),\n",
        "            nn.BatchNorm2d(256),\n",
        "            nn.ReLU(inplace=True),\n",
        "            nn.MaxPool2d(kernel_size=3, stride=2),\n",
        "        )   \n",
        "        \n",
        "        self.classifier = nn.Sequential(\n",
        "            nn.Dropout(),\n",
        "            nn.Linear(256 * 6 * 6, 4096),\n",
        "            nn.ReLU(inplace=True),\n",
        "            nn.Dropout(),\n",
        "            nn.Linear(4096, 4096),\n",
        "            nn.ReLU(inplace=True),\n",
        "            nn.Linear(4096, num_classes),\n",
        "        )\n",
        "        \n",
        "\n",
        "    def forward(self, x):\n",
        "        x = self.features(x)\n",
        "        #print(x.shape)\n",
        "        x = x.view(x.size(0), 256 * 6 * 6)\n",
        "        x = self.classifier(x)\n",
        "        return x"
      ],
      "execution_count": 0,
      "outputs": []
    },
    {
      "cell_type": "markdown",
      "metadata": {
        "id": "EnlaMKJW3zGv",
        "colab_type": "text"
      },
      "source": [
        "# Import Data as `torch.Tensor`"
      ]
    },
    {
      "cell_type": "code",
      "metadata": {
        "id": "g8EKHuVcgx-q",
        "colab_type": "code",
        "outputId": "ad2033c9-9b51-45a9-ea6d-251dda1603cd",
        "colab": {
          "base_uri": "https://localhost:8080/",
          "height": 68
        }
      },
      "source": [
        "# Import Data\n",
        "path=\"/content/gdrive/My Drive/Sigmoid/\"\n",
        "train_data = np.load(path+\"kmnist-train-imgs.npy\")\n",
        "test_data = np.load(path+\"kmnist-test-imgs.npy\")\n",
        "train_labels = np.load(path+\"kmnist-train-labels.npy\")\n",
        "classmap = pd.read_csv(path+\"kmnist_classmap.csv\")\n",
        "\n",
        "# Tensor of training data\n",
        "X = torch.from_numpy(train_data).float()\n",
        "# Tensor of training labels\n",
        "y = torch.from_numpy(train_labels).long()\n",
        "#  Tensor of test data\n",
        "X_test = torch.from_numpy(test_data).float()\n",
        "\n",
        "# Size Check\n",
        "print(\"Train Data:\", X.size())\n",
        "print(\"Test Data:\", X_test.size())\n",
        "print(\"Train Labels:\", y.size())"
      ],
      "execution_count": 45,
      "outputs": [
        {
          "output_type": "stream",
          "text": [
            "Train Data: torch.Size([60000, 28, 28])\n",
            "Test Data: torch.Size([10000, 28, 28])\n",
            "Train Labels: torch.Size([60000])\n"
          ],
          "name": "stdout"
        }
      ]
    },
    {
      "cell_type": "markdown",
      "metadata": {
        "id": "QS6WE-3U_6Em",
        "colab_type": "text"
      },
      "source": [
        "#**Ensemble Learning**"
      ]
    },
    {
      "cell_type": "code",
      "metadata": {
        "id": "GSWkToqZEqi1",
        "colab_type": "code",
        "colab": {}
      },
      "source": [
        "# Hyperparameters\n",
        "lr = 1e-2\n",
        "momentum = 0.5\n",
        "batch_size = 64\n",
        "test_batch_size = 1000\n",
        "n_epochs = 2\n",
        "patience=5\n",
        "early_stop_tol = 0.000\n",
        "n_folds=3\n",
        "weight_decay=0\n",
        "loss_function = nn.CrossEntropyLoss()"
      ],
      "execution_count": 0,
      "outputs": []
    },
    {
      "cell_type": "markdown",
      "metadata": {
        "id": "1hecSi-I7LGt",
        "colab_type": "text"
      },
      "source": [
        "## Creating model object to split data into training/validation sets"
      ]
    },
    {
      "cell_type": "code",
      "metadata": {
        "id": "ZIFTRW-06ziW",
        "colab_type": "code",
        "colab": {}
      },
      "source": [
        "path = \"/content/gdrive/My Drive/Sigmoid/Models/\"\n",
        "\n",
        "# Model Name\n",
        "MODEL_NAME = \"lenet5_980\"\n",
        "\n",
        "# Define/Load Model, Optimiser and Loss Function\n",
        "model_Lenet5 = model_load(\"/content/gdrive/My Drive/Sigmoid/Models/\", MODEL_NAME)\n",
        "\n",
        "optimiser = torch.optim.SGD(model_Lenet5.parameters(), lr=lr, momentum=momentum, weight_decay=weight_decay)\n",
        "learning = SupervisedLearning(X, y, model_Lenet5, optimiser, loss_function, batch_size, test_batch_size,\n",
        "                device=device,\n",
        "                transform=False,\n",
        "                seed=42, n_epochs=n_epochs,\n",
        "                val_ratio=0.1, n_splits=n_folds+1)\n",
        "norm_mean, norm_std = torch.mean(X/255.), torch.std(X/255.)\n",
        "learning.split_data()"
      ],
      "execution_count": 0,
      "outputs": []
    },
    {
      "cell_type": "markdown",
      "metadata": {
        "id": "kUHNHZVdWpe9",
        "colab_type": "text"
      },
      "source": [
        "## Combining models"
      ]
    },
    {
      "cell_type": "code",
      "metadata": {
        "id": "v79K4LrSTAOK",
        "colab_type": "code",
        "outputId": "680fc142-2fdc-4126-bf8a-07e1c61eb615",
        "colab": {
          "base_uri": "https://localhost:8080/",
          "height": 527
        }
      },
      "source": [
        "model_dir = os.listdir(path)\n",
        "ensemble_list = []\n",
        "test_acc_list = []\n",
        "# If the validation score is above 98% then it is included in our ensemble \n",
        "print(\"Models Included:\")\n",
        "\n",
        "for name in model_dir:\n",
        "  if name[-3:] == \"pth\":\n",
        "    model = model.to(device)\n",
        "    ensemble_list.append(model)\n",
        "    print(name)\n",
        "    # Used to originally determine which models should be included\n",
        "    # but only useful on those models that had not been trained on the \n",
        "    # full training set (including validation set)\n",
        "    #y_preds, sub = evaluate(learning.X_val, model, norm_mean, norm_std, test_batch_size=30, test_transform=None, device=device, ensemble=False)\n",
        "    #test_acc = accuracy_check(y_preds, learning.y_val)\n",
        "    #if test_acc > 0.95:\n",
        "    #  print(name, test_acc)\n",
        "    #  test_acc_list.append(test_acc)\n",
        "    #  ensemble_list.append(model)\n",
        "\n",
        "ensemble = ensemble_net(ensemble_list)\n",
        "y_preds_ens, sub = evaluate(X_test/255., ensemble, norm_mean, norm_std, test_batch_size=30, test_transform=None, device=device, ensemble=True, save_to_csv=True, path=path+\"ensemble.csv\")\n",
        "print(\"\\nThis ensemble achieved a test score of 0.97833\")"
      ],
      "execution_count": 73,
      "outputs": [
        {
          "output_type": "stream",
          "text": [
            "Models Included:\n",
            "lenet5_920.pth\n",
            "lenet5_958.pth\n",
            "lenet_rot10_jitt_979.pth\n",
            "lenet_drop_aug_986.pth\n",
            "lenet5_980.pth\n",
            "mlenet5_test_916.pth\n",
            "mlenet5_test_919.pth\n",
            "lenet5_test_927.pth\n",
            "lenet5_test_924.pth\n",
            "lenet5_test_931.pth\n",
            "mlenet5_test_921.pth\n",
            "alex_aug_full_9703.pth\n",
            "alex_aug_992.pth\n",
            "deepalex_old_aug_subset_9940.pth\n",
            "deepalex_old_aug_full_9806.pth\n",
            "alexnetmod_full_new_aug_963.pth\n",
            "alexnetmod_full_new_aug_983.pth\n",
            "SDeep_model_full_old_aug_.pth\n",
            "SDeep_model_full_old_aug_0.pth\n",
            "mlenet5_test_914.pth\n",
            "SDeep_model_full_old_aug_continue_0.pth\n",
            "dAlexTransferNewAug_0.pth\n",
            "alex_old_aug_subset_adam_994.pth\n",
            "SDeepAlex_model_NewAug_full_.pth\n",
            "Deepalex_new_aug_full_adam_0.pth\n",
            "dAlexTransfer_0.pth\n",
            "dAlexTransferNewAugSingleLayer_0.pth\n",
            "\n",
            "This ensemble achieved a test score of 0.97833\n"
          ],
          "name": "stdout"
        }
      ]
    },
    {
      "cell_type": "markdown",
      "metadata": {
        "id": "e0wJt3vXLlU5",
        "colab_type": "text"
      },
      "source": [
        "## Transfer Learning with Alexnet"
      ]
    },
    {
      "cell_type": "code",
      "metadata": {
        "id": "eNqg_PxNHlMf",
        "colab_type": "code",
        "outputId": "af7f9a28-b4ec-4161-a738-ead9f3318aca",
        "colab": {
          "base_uri": "https://localhost:8080/",
          "height": 567
        }
      },
      "source": [
        "# Model Name\n",
        "MODEL_NAME = \"deepalex_old_aug_full_9806\"\n",
        "# Number of layers that will have non-zero learning lates\n",
        "LAYERS = 1\n",
        "\n",
        "# Hyperparameters\n",
        "lr = 1e-2\n",
        "momentum = 0.5\n",
        "batch_size = 64\n",
        "test_batch_size = 1000\n",
        "n_epochs = 3\n",
        "patience=10\n",
        "early_stop_tol = 0.000\n",
        "n_folds=0\n",
        "weight_decay=1e-4\n",
        "loss_function = nn.CrossEntropyLoss()\n",
        "\n",
        "# Define/Load Model, Optimiser and Loss Function\n",
        "alexnet = model_load(\"/content/gdrive/My Drive/Sigmoid/Models/\", MODEL_NAME)\n",
        "\n",
        "# Setting the learning rate throughout the network to 0 \n",
        "# unless they are in the final n LAYERS\n",
        "lr_dic = []\n",
        "for i in range(0, len(alexnet.classifier)-LAYERS):\n",
        "  lr_dic.append({'params': alexnet.classifier[i].parameters(), 'lr': 0.0})\n",
        "for i in range(0, len(alexnet.features)):\n",
        "  lr_dic.append({'params': alexnet.features[i].parameters(), 'lr': 0.0})\n",
        "  \n",
        "lr_dic.append({'params': alexnet.classifier[-1].parameters(), 'lr': lr})\n",
        "optimiser = torch.optim.SGD(lr_dic, momentum=momentum, weight_decay=0)\n",
        "\n",
        "# Create Supervised Learning Object\n",
        "learning = SupervisedLearning(X, y, alexnet, optimiser, loss_function, batch_size, test_batch_size,\n",
        "                 device=device,\n",
        "                 transform=True, \n",
        "                 seed=42, n_epochs=n_epochs,\n",
        "                 val_ratio=0.1, n_splits=n_folds+1, \n",
        "                 early_stop = True,\n",
        "                 patience = patience,\n",
        "                 tol = early_stop_tol)\n",
        "\n",
        "learning.train_wrapper(train_full=False)\n",
        "\n",
        "# Saving model\n",
        "# Model Name\n",
        "MODEL_NAME = \"dAlexTransfer\"\n",
        "path = F\"/content/gdrive/My Drive/Sigmoid/Models/\"\n",
        "\n",
        "full_save(path, MODEL_NAME, model, optimiser, loss_function, early_stop_tol, learning.logs[\"_i\"], lr, momentum, weight_decay, n_folds, learning.transform, learning.logs[\"val_accuracy\"], learning.logs[\"val_log loss\"], train_time=learning.logs[\"time\"])\n",
        "\n",
        "# Evaluate and save test dataset prediction\n",
        "norm_mean, norm_std = torch.mean(X/255.), torch.std(X/255.)\n",
        "y_preds, sub = evaluate(X_test, model, norm_mean, norm_std, \n",
        "                                       test_batch_size=test_batch_size, \n",
        "                                       test_transform=None, \n",
        "                                       device=device, \n",
        "                                       save_to_csv=False, \n",
        "                                       path=path+MODEL_NAME+\".csv\")\n",
        "\n",
        "print(\"\\nTest Set Predictions:\", y_preds)"
      ],
      "execution_count": 26,
      "outputs": [
        {
          "output_type": "display_data",
          "data": {
            "image/png": "[encoded data removed]",
            "text/plain": [
              "<Figure size 864x576 with 2 Axes>"
            ]
          },
          "metadata": {
            "tags": []
          }
        },
        {
          "output_type": "stream",
          "text": [
            "log loss:\n",
            "training   (min:    0.003, max:    0.005, cur:    0.003)\n",
            "validation (min:    0.000, max:    0.000, cur:    0.000)\n",
            "\n",
            "accuracy:\n",
            "training   (min:    0.999, max:    0.999, cur:    0.999)\n",
            "validation (min:    1.000, max:    1.000, cur:    1.000)\n",
            "Count: 0\n",
            "Saving model under: /content/gdrive/My Drive/Sigmoid/Models/dAlexTransfer_0.pth\n"
          ],
          "name": "stdout"
        },
        {
          "output_type": "stream",
          "text": [
            "/usr/local/lib/python3.6/dist-packages/torch/serialization.py:256: UserWarning: Couldn't retrieve source code for container of type DeepAlexNetMod. It won't be checked for correctness upon loading.\n",
            "  \"type \" + obj.__name__ + \". It won't be checked \"\n"
          ],
          "name": "stderr"
        },
        {
          "output_type": "stream",
          "text": [
            "\n",
            "Test Set Predictions: [2 9 3 ... 9 4 2]\n"
          ],
          "name": "stdout"
        }
      ]
    },
    {
      "cell_type": "markdown",
      "metadata": {
        "id": "L55SdXCVmvGK",
        "colab_type": "text"
      },
      "source": [
        "## Transfer Learning - AlexNet with Augmented Data"
      ]
    },
    {
      "cell_type": "code",
      "metadata": {
        "id": "7YcZfnTInY4L",
        "colab_type": "code",
        "colab": {}
      },
      "source": [
        "from albumentations import (\n",
        "    HorizontalFlip, IAAPerspective, ShiftScaleRotate, CLAHE, RandomRotate90, Cutout, \n",
        "    Transpose, ShiftScaleRotate, Blur, OpticalDistortion, GridDistortion, HueSaturationValue,\n",
        "    IAAAdditiveGaussianNoise, GaussNoise, MotionBlur, MedianBlur, IAAPiecewiseAffine,\n",
        "    IAASharpen, IAAEmboss, RandomBrightnessContrast, Flip, OneOf, Compose\n",
        ")\n",
        "\n",
        "\n",
        "def augment_data(X, y, transforms, n_add=1000):\n",
        "  \"\"\" \n",
        "  Function to produce n_add augmented images from an image dataset\n",
        "  Params\n",
        "  -----\n",
        "  X: torch.tensor of size (n_images, 28, 28) images dataset\n",
        "  y: torch.tensor of size (n_images) images targets int\n",
        "  transforms: albumentations.Compose object\n",
        "  n_add: in number of images to add\n",
        "  \n",
        "  Returns\n",
        "  -------\n",
        "  X_aug, y_aug: np.arrays of images and targets with augmented adition\n",
        "  \"\"\"\n",
        "  # reserve space to store augmented images\n",
        "  X_aug = np.zeros((X.shape[0]+n_add, X.shape[1], X.shape[2]),dtype=uint8)\n",
        "  X_aug[:X.shape[0]]=X.numpy().copy()\n",
        "  \n",
        "  y_aug = np.zeros(X.shape[0]+n_add)\n",
        "  y_aug[:X.shape[0]] = y.numpy().copy()\n",
        "  \n",
        "  # keep track of how many augmented images have been added\n",
        "  aug_count = 0\n",
        "  \n",
        "  while aug_count < n_add:\n",
        "    for i in range(X.shape[0]):\n",
        "      image_1c = X[i].numpy().astype(np.uint8)\n",
        "\n",
        "      # transform to 3 channels\n",
        "      image= np.zeros((28,28,3), dtype=uint8)\n",
        "      image[:,:,0] = image_1c\n",
        "      image[:,:,1] = image_1c\n",
        "      image[:,:,2] = image_1c\n",
        "\n",
        "      # transform and save single channel\n",
        "      data = {\"image\": image}\n",
        "      img_aug = transforms(**data)   \n",
        "      img_aug = img_aug[\"image\"][:,:,0]\n",
        "      \n",
        "      aug_count = aug_count + 1\n",
        "      #print(\"number of augmented images: \", aug_count)\n",
        "      if aug_count >= n_add:\n",
        "        break\n",
        "\n",
        "      X_aug[X.shape[0]+aug_count] = img_aug \n",
        "      y_aug[X.shape[0]+aug_count] = int(y[i].item())\n",
        "  \n",
        "  return X_aug, y_aug\n",
        "\n",
        "\n",
        "def strong_aug(p=0.5):\n",
        "    return Compose([\n",
        "        \n",
        "        Cutout(num_holes=4, max_h_size=4, max_w_size=4, p=0.4),\n",
        "        \n",
        "        OneOf([\n",
        "            IAAAdditiveGaussianNoise(),\n",
        "            GaussNoise(),\n",
        "            \n",
        "        ], p=0.8),\n",
        "        \n",
        "        OneOf([\n",
        "            MotionBlur(blur_limit=3,p=0.1),\n",
        "            MedianBlur(blur_limit=3, p=0.1),\n",
        "            Blur(blur_limit=3, p=0.1),\n",
        "        ], p=0.01),\n",
        "        \n",
        "        ShiftScaleRotate(shift_limit=0.0625, scale_limit=0.2, rotate_limit=20, p=0.7),\n",
        "        \n",
        "        OneOf([\n",
        "            OpticalDistortion(p=0.1),\n",
        "            GridDistortion(p=0.2),\n",
        "            IAAPiecewiseAffine(p=0.2),\n",
        "        ], p=0.5),\n",
        "        \n",
        "        OneOf([\n",
        "            CLAHE(clip_limit=2),\n",
        "            IAASharpen(),\n",
        "            RandomBrightnessContrast(),\n",
        "        ], p=0.3),\n",
        "        \n",
        "        HueSaturationValue(p=0.3),\n",
        "    ], p=p)"
      ],
      "execution_count": 0,
      "outputs": []
    },
    {
      "cell_type": "code",
      "metadata": {
        "id": "ncKmxVU0Cm7s",
        "colab_type": "code",
        "colab": {}
      },
      "source": [
        "# Creaing the augmented dataset\n",
        "# Only a small amount of additional images are included here\n",
        "# for demonstation purposes\n",
        "X_aug, y_aug = augment_data(X, y, strong_aug(1), n_add=1000)\n",
        "X_aug, y_aug = torch.from_numpy(X_aug), torch.from_numpy(y_aug).long()"
      ],
      "execution_count": 0,
      "outputs": []
    },
    {
      "cell_type": "code",
      "metadata": {
        "id": "rcpseTrsgrnx",
        "colab_type": "code",
        "outputId": "b9485de8-0e4b-4b44-cad3-d3be33019f6d",
        "colab": {
          "base_uri": "https://localhost:8080/",
          "height": 482
        }
      },
      "source": [
        "# Model Loading Name\n",
        "MODEL_NAME = \"deepalex_old_aug_full_9806\"\n",
        "# Number of layers that will have non-zero learning lates\n",
        "LAYERS = 1\n",
        "\n",
        "# Hyperparameters\n",
        "lr = 1e-2\n",
        "momentum = 0.5\n",
        "batch_size = 64\n",
        "test_batch_size = 1000\n",
        "n_epochs = 3\n",
        "patience=10\n",
        "early_stop_tol = 0.000\n",
        "n_folds=0\n",
        "weight_decay=1e-4\n",
        "loss_function = nn.CrossEntropyLoss()\n",
        "\n",
        "# Define/Load Model, Optimiser and Loss Function\n",
        "alexnet = model_load(\"/content/gdrive/My Drive/Sigmoid/Models/\", MODEL_NAME)\n",
        "\n",
        "# Setting the learning rate throughout the network to 0\n",
        "# unless they are in the final n LAYERS\n",
        "lr_dic = []\n",
        "for i in range(0, len(alexnet.classifier)-LAYERS):\n",
        "  lr_dic.append({'params': alexnet.classifier[i].parameters(), 'lr': 0.0})\n",
        "for i in range(0, len(alexnet.features)):\n",
        "  lr_dic.append({'params': alexnet.features[i].parameters(), 'lr': 0.0})\n",
        "\n",
        "lr_dic.append({'params': alexnet.classifier[-1].parameters(), 'lr': lr})\n",
        "optimiser = torch.optim.SGD(lr_dic, momentum=momentum, weight_decay=weight_decay)\n",
        "\n",
        "# Create Supervised Learning Object\n",
        "# X_aug, y_aug = torch.from_numpy(X_aug), torch.from_numpy(y_aug).long()\n",
        "learning = SupervisedLearning(X_aug, y_aug.long(), alexnet, optimiser, loss_function, batch_size, test_batch_size,\n",
        "                device=device,\n",
        "                transform=False,\n",
        "                seed=42, n_epochs=n_epochs,\n",
        "                val_ratio=0.1, n_splits=n_folds+1,\n",
        "                early_stop = True,\n",
        "                patience = patience,\n",
        "                tol = early_stop_tol)\n",
        "\n",
        "learning.train_wrapper(train_full=True)"
      ],
      "execution_count": 30,
      "outputs": [
        {
          "output_type": "display_data",
          "data": {
            "image/png": "[encoded data removed]",
            "text/plain": [
              "<Figure size 864x576 with 2 Axes>"
            ]
          },
          "metadata": {
            "tags": []
          }
        },
        {
          "output_type": "stream",
          "text": [
            "log loss:\n",
            "training   (min:    0.006, max:    0.006, cur:    0.006)\n",
            "validation (min:    1.000, max:    1.000, cur:    1.000)\n",
            "\n",
            "accuracy:\n",
            "training   (min:    0.998, max:    0.998, cur:    0.998)\n",
            "validation (min:    1.000, max:    1.000, cur:    1.000)\n",
            "Count: 0\n"
          ],
          "name": "stdout"
        }
      ]
    },
    {
      "cell_type": "code",
      "metadata": {
        "id": "bwtDcf3FEshD",
        "colab_type": "code",
        "colab": {
          "base_uri": "https://localhost:8080/",
          "height": 122
        },
        "outputId": "146213a1-f8cf-44af-d416-d3b049f541c2"
      },
      "source": [
        "# Saving model\n",
        "# Model Name\n",
        "MODEL_NAME = \"dAlexTransferNewAugSingleLayer\"\n",
        "path = F\"/content/gdrive/My Drive/Sigmoid/Models/\"\n",
        "\n",
        "full_save(path, MODEL_NAME, model, optimiser, loss_function, early_stop_tol, learning.logs['_i'], lr, momentum, weight_decay, n_folds, True, learning.logs['val_accuracy'], learning.logs['val_log loss'], train_time=learning.logs['time'])\n",
        "\n",
        "# Evaluate and save test dataset prediction\n",
        "norm_mean, norm_std = torch.mean(X/255.), torch.std(X/255.)\n",
        "y_preds, sub = evaluate(X_test, model, norm_mean, norm_std,\n",
        "                                      test_batch_size=test_batch_size,\n",
        "                                      test_transform=None,\n",
        "                                      device=device,\n",
        "                                      save_to_csv=False,\n",
        "                                      path=path+MODEL_NAME+'.csv')\n",
        "\n",
        "print(\"\\nTest Set Predictions:\", y_preds)"
      ],
      "execution_count": 32,
      "outputs": [
        {
          "output_type": "stream",
          "text": [
            "Saving model under: /content/gdrive/My Drive/Sigmoid/Models/dAlexTransferNewAugSingleLayer_0.pth\n"
          ],
          "name": "stdout"
        },
        {
          "output_type": "stream",
          "text": [
            "/usr/local/lib/python3.6/dist-packages/torch/serialization.py:256: UserWarning: Couldn't retrieve source code for container of type DeepAlexNetMod. It won't be checked for correctness upon loading.\n",
            "  \"type \" + obj.__name__ + \". It won't be checked \"\n"
          ],
          "name": "stderr"
        },
        {
          "output_type": "stream",
          "text": [
            "\n",
            "Test Set Predictions: [2 9 3 ... 9 4 2]\n"
          ],
          "name": "stdout"
        }
      ]
    }
  ]
}