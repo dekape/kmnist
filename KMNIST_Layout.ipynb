{
  "nbformat": 4,
  "nbformat_minor": 0,
  "metadata": {
    "colab": {
      "name": "KMNIST_Layout.ipynb",
      "version": "0.3.2",
      "provenance": [],
      "collapsed_sections": [],
      "toc_visible": true
    },
    "kernelspec": {
      "name": "python3",
      "display_name": "Python 3"
    },
    "accelerator": "GPU"
  },
  "cells": [
    {
      "cell_type": "markdown",
      "metadata": {
        "id": "akREK8lZ3RiC",
        "colab_type": "text"
      },
      "source": [
        "# Setting Up Working Environment"
      ]
    },
    {
      "cell_type": "markdown",
      "metadata": {
        "id": "zgSZIQwb4wSN",
        "colab_type": "text"
      },
      "source": [
        "## Sync to GitHub"
      ]
    },
    {
      "cell_type": "code",
      "metadata": {
        "id": "5kLRSiJU5I3i",
        "colab_type": "code",
        "outputId": "3605f029-abaa-4435-954e-a0ab2983bae6",
        "colab": {
          "base_uri": "https://localhost:8080/",
          "height": 177
        }
      },
      "source": [
        "from getpass import getpass\n",
        "import os\n",
        "\n",
        "user = getpass('github user')\n",
        "password = getpass('github password')\n",
        "os.environ['GITHUB_AUTH'] = user + ':' + password\n",
        "\n",
        "!rm -rf sigmoid\n",
        "!git clone https://$GITHUB_AUTH@github.com/msc-acse/acse-8-miniproject-sigmoid.git sigmoid"
      ],
      "execution_count": 1,
      "outputs": [
        {
          "output_type": "stream",
          "text": [
            "github user··········\n",
            "github password··········\n",
            "Cloning into 'sigmoid'...\n",
            "remote: Enumerating objects: 131, done.\u001b[K\n",
            "remote: Counting objects: 100% (131/131), done.\u001b[K\n",
            "remote: Compressing objects: 100% (112/112), done.\u001b[K\n",
            "remote: Total 131 (delta 42), reused 64 (delta 15), pack-reused 0\u001b[K\n",
            "Receiving objects: 100% (131/131), 24.89 MiB | 25.51 MiB/s, done.\n",
            "Resolving deltas: 100% (42/42), done.\n"
          ],
          "name": "stdout"
        }
      ]
    },
    {
      "cell_type": "markdown",
      "metadata": {
        "id": "bsIvGMIi4oBX",
        "colab_type": "text"
      },
      "source": [
        "## Sync to Google Drive"
      ]
    },
    {
      "cell_type": "code",
      "metadata": {
        "id": "hL26tq3Dc-FF",
        "colab_type": "code",
        "outputId": "c8c7684b-9683-4328-86d6-dc06ec4e8d25",
        "colab": {
          "base_uri": "https://localhost:8080/",
          "height": 126
        }
      },
      "source": [
        "from google.colab import drive\n",
        "drive.mount(\"/content/gdrive/\")"
      ],
      "execution_count": 2,
      "outputs": [
        {
          "output_type": "stream",
          "text": [
            "Go to this URL in a browser: https://accounts.google.com/o/oauth2/auth?client_id=947318989803-6bn6qk8qdgf4n4g3pfee6491hc0brc4i.apps.googleusercontent.com&redirect_uri=urn%3Aietf%3Awg%3Aoauth%3A2.0%3Aoob&scope=email%20https%3A%2F%2Fwww.googleapis.com%2Fauth%2Fdocs.test%20https%3A%2F%2Fwww.googleapis.com%2Fauth%2Fdrive%20https%3A%2F%2Fwww.googleapis.com%2Fauth%2Fdrive.photos.readonly%20https%3A%2F%2Fwww.googleapis.com%2Fauth%2Fpeopleapi.readonly&response_type=code\n",
            "\n",
            "Enter your authorization code:\n",
            "··········\n",
            "Mounted at /content/gdrive/\n"
          ],
          "name": "stdout"
        }
      ]
    },
    {
      "cell_type": "markdown",
      "metadata": {
        "id": "UklPFvET4rZJ",
        "colab_type": "text"
      },
      "source": [
        "## Install Dependencies and CUDA"
      ]
    },
    {
      "cell_type": "code",
      "metadata": {
        "id": "NH7olt6wdI6c",
        "colab_type": "code",
        "outputId": "3e65ae5b-499b-444b-c5d1-3581c7266f3d",
        "colab": {
          "base_uri": "https://localhost:8080/",
          "height": 1086
        }
      },
      "source": [
        "%pylab inline\n",
        "!pip install pycm livelossplot\n",
        "\n",
        "from livelossplot import PlotLosses\n",
        "import numpy as np\n",
        "import pandas as pd\n",
        "from sklearn.metrics import accuracy_score\n",
        "from sklearn.model_selection import StratifiedShuffleSplit, StratifiedKFold\n",
        "import torch\n",
        "import torch.nn as nn\n",
        "import torch.nn.functional as F\n",
        "from torch.utils.data import TensorDataset, DataLoader\n",
        "import torchvision.transforms as transforms\n",
        "from torchvision import models\n",
        "import time\n",
        "import random\n",
        "import copy\n",
        "\n",
        "device = 'cpu'\n",
        "if torch.cuda.device_count() > 0 and torch.cuda.is_available():\n",
        "    print(\"Cuda installed! Running on GPU!\")\n",
        "    device = 'cuda'\n",
        "else:\n",
        "    print(\"No GPU available!\")"
      ],
      "execution_count": 3,
      "outputs": [
        {
          "output_type": "stream",
          "text": [
            "Populating the interactive namespace from numpy and matplotlib\n",
            "Collecting pycm\n",
            "\u001b[?25l  Downloading https://files.pythonhosted.org/packages/35/86/14ebc41098fb81eb7e458d234622a9ce50857bb7d6f350b29765273c00f5/pycm-2.1-py2.py3-none-any.whl (45kB)\n",
            "\u001b[K     |████████████████████████████████| 51kB 2.0MB/s \n",
            "\u001b[?25hCollecting livelossplot\n",
            "  Downloading https://files.pythonhosted.org/packages/55/2b/4be0b3de085cfacf25fc1934f391bd85f90565db4f110f3f7b2220666b09/livelossplot-0.4.0-py3-none-any.whl\n",
            "Requirement already satisfied: numpy>=1.9.0 in /usr/local/lib/python3.6/dist-packages (from pycm) (1.16.3)\n",
            "Collecting art>=1.8 (from pycm)\n",
            "\u001b[?25l  Downloading https://files.pythonhosted.org/packages/6e/cb/12329146ae052d8cc797edec123f87ff54f349af34438d01f1ffe7fc6e1c/art-3.6-py2.py3-none-any.whl (489kB)\n",
            "\u001b[K     |████████████████████████████████| 491kB 8.0MB/s \n",
            "\u001b[?25hRequirement already satisfied: matplotlib in /usr/local/lib/python3.6/dist-packages (from livelossplot) (3.0.3)\n",
            "Requirement already satisfied: notebook in /usr/local/lib/python3.6/dist-packages (from livelossplot) (5.2.2)\n",
            "Collecting coverage>=4.1 (from art>=1.8->pycm)\n",
            "\u001b[?25l  Downloading https://files.pythonhosted.org/packages/f8/4e/f28fc04019bac97d301512d904992791569234a06826cd420f78fba9a361/coverage-4.5.3-cp36-cp36m-manylinux1_x86_64.whl (205kB)\n",
            "\u001b[K     |████████████████████████████████| 215kB 48.2MB/s \n",
            "\u001b[?25hRequirement already satisfied: pyparsing!=2.0.4,!=2.1.2,!=2.1.6,>=2.0.1 in /usr/local/lib/python3.6/dist-packages (from matplotlib->livelossplot) (2.4.0)\n",
            "Requirement already satisfied: kiwisolver>=1.0.1 in /usr/local/lib/python3.6/dist-packages (from matplotlib->livelossplot) (1.1.0)\n",
            "Requirement already satisfied: cycler>=0.10 in /usr/local/lib/python3.6/dist-packages (from matplotlib->livelossplot) (0.10.0)\n",
            "Requirement already satisfied: python-dateutil>=2.1 in /usr/local/lib/python3.6/dist-packages (from matplotlib->livelossplot) (2.5.3)\n",
            "Requirement already satisfied: nbformat in /usr/local/lib/python3.6/dist-packages (from notebook->livelossplot) (4.4.0)\n",
            "Requirement already satisfied: terminado>=0.3.3; sys_platform != \"win32\" in /usr/local/lib/python3.6/dist-packages (from notebook->livelossplot) (0.8.2)\n",
            "Requirement already satisfied: nbconvert in /usr/local/lib/python3.6/dist-packages (from notebook->livelossplot) (5.5.0)\n",
            "Requirement already satisfied: tornado>=4 in /usr/local/lib/python3.6/dist-packages (from notebook->livelossplot) (4.5.3)\n",
            "Requirement already satisfied: jupyter-client in /usr/local/lib/python3.6/dist-packages (from notebook->livelossplot) (5.2.4)\n",
            "Requirement already satisfied: traitlets>=4.2.1 in /usr/local/lib/python3.6/dist-packages (from notebook->livelossplot) (4.3.2)\n",
            "Requirement already satisfied: ipython-genutils in /usr/local/lib/python3.6/dist-packages (from notebook->livelossplot) (0.2.0)\n",
            "Requirement already satisfied: jinja2 in /usr/local/lib/python3.6/dist-packages (from notebook->livelossplot) (2.10.1)\n",
            "Requirement already satisfied: ipykernel in /usr/local/lib/python3.6/dist-packages (from notebook->livelossplot) (4.6.1)\n",
            "Requirement already satisfied: jupyter-core in /usr/local/lib/python3.6/dist-packages (from notebook->livelossplot) (4.4.0)\n",
            "Requirement already satisfied: setuptools in /usr/local/lib/python3.6/dist-packages (from kiwisolver>=1.0.1->matplotlib->livelossplot) (41.0.1)\n",
            "Requirement already satisfied: six in /usr/local/lib/python3.6/dist-packages (from cycler>=0.10->matplotlib->livelossplot) (1.12.0)\n",
            "Requirement already satisfied: jsonschema!=2.5.0,>=2.4 in /usr/local/lib/python3.6/dist-packages (from nbformat->notebook->livelossplot) (2.6.0)\n",
            "Requirement already satisfied: ptyprocess; os_name != \"nt\" in /usr/local/lib/python3.6/dist-packages (from terminado>=0.3.3; sys_platform != \"win32\"->notebook->livelossplot) (0.6.0)\n",
            "Requirement already satisfied: mistune>=0.8.1 in /usr/local/lib/python3.6/dist-packages (from nbconvert->notebook->livelossplot) (0.8.4)\n",
            "Requirement already satisfied: pandocfilters>=1.4.1 in /usr/local/lib/python3.6/dist-packages (from nbconvert->notebook->livelossplot) (1.4.2)\n",
            "Requirement already satisfied: bleach in /usr/local/lib/python3.6/dist-packages (from nbconvert->notebook->livelossplot) (3.1.0)\n",
            "Requirement already satisfied: defusedxml in /usr/local/lib/python3.6/dist-packages (from nbconvert->notebook->livelossplot) (0.6.0)\n",
            "Requirement already satisfied: pygments in /usr/local/lib/python3.6/dist-packages (from nbconvert->notebook->livelossplot) (2.1.3)\n",
            "Requirement already satisfied: entrypoints>=0.2.2 in /usr/local/lib/python3.6/dist-packages (from nbconvert->notebook->livelossplot) (0.3)\n",
            "Requirement already satisfied: testpath in /usr/local/lib/python3.6/dist-packages (from nbconvert->notebook->livelossplot) (0.4.2)\n",
            "Requirement already satisfied: pyzmq>=13 in /usr/local/lib/python3.6/dist-packages (from jupyter-client->notebook->livelossplot) (17.0.0)\n",
            "Requirement already satisfied: decorator in /usr/local/lib/python3.6/dist-packages (from traitlets>=4.2.1->notebook->livelossplot) (4.4.0)\n",
            "Requirement already satisfied: MarkupSafe>=0.23 in /usr/local/lib/python3.6/dist-packages (from jinja2->notebook->livelossplot) (1.1.1)\n",
            "Requirement already satisfied: ipython>=4.0.0 in /usr/local/lib/python3.6/dist-packages (from ipykernel->notebook->livelossplot) (5.5.0)\n",
            "Requirement already satisfied: webencodings in /usr/local/lib/python3.6/dist-packages (from bleach->nbconvert->notebook->livelossplot) (0.5.1)\n",
            "Requirement already satisfied: prompt-toolkit<2.0.0,>=1.0.4 in /usr/local/lib/python3.6/dist-packages (from ipython>=4.0.0->ipykernel->notebook->livelossplot) (1.0.16)\n",
            "Requirement already satisfied: pickleshare in /usr/local/lib/python3.6/dist-packages (from ipython>=4.0.0->ipykernel->notebook->livelossplot) (0.7.5)\n",
            "Requirement already satisfied: simplegeneric>0.8 in /usr/local/lib/python3.6/dist-packages (from ipython>=4.0.0->ipykernel->notebook->livelossplot) (0.8.1)\n",
            "Requirement already satisfied: pexpect; sys_platform != \"win32\" in /usr/local/lib/python3.6/dist-packages (from ipython>=4.0.0->ipykernel->notebook->livelossplot) (4.7.0)\n",
            "Requirement already satisfied: wcwidth in /usr/local/lib/python3.6/dist-packages (from prompt-toolkit<2.0.0,>=1.0.4->ipython>=4.0.0->ipykernel->notebook->livelossplot) (0.1.7)\n",
            "\u001b[31mERROR: datascience 0.10.6 has requirement coverage==3.7.1, but you'll have coverage 4.5.3 which is incompatible.\u001b[0m\n",
            "\u001b[31mERROR: datascience 0.10.6 has requirement folium==0.2.1, but you'll have folium 0.8.3 which is incompatible.\u001b[0m\n",
            "\u001b[31mERROR: coveralls 0.5 has requirement coverage<3.999,>=3.6, but you'll have coverage 4.5.3 which is incompatible.\u001b[0m\n",
            "Installing collected packages: coverage, art, pycm, livelossplot\n",
            "  Found existing installation: coverage 3.7.1\n",
            "    Uninstalling coverage-3.7.1:\n",
            "      Successfully uninstalled coverage-3.7.1\n",
            "Successfully installed art-3.6 coverage-4.5.3 livelossplot-0.4.0 pycm-2.1\n",
            "Cuda installed! Running on GPU!\n"
          ],
          "name": "stdout"
        }
      ]
    },
    {
      "cell_type": "markdown",
      "metadata": {
        "id": "220oINBu3rOf",
        "colab_type": "text"
      },
      "source": [
        "## Import Tools to Perform Supervised Learning on KMNIST"
      ]
    },
    {
      "cell_type": "code",
      "metadata": {
        "id": "SINbqBj13p3n",
        "colab_type": "code",
        "colab": {}
      },
      "source": [
        "%load_ext autoreload\n",
        "%reload_ext autoreload\n",
        "%autoreload 2\n",
        "from sigmoid.KMNISTLearning import *"
      ],
      "execution_count": 0,
      "outputs": []
    },
    {
      "cell_type": "markdown",
      "metadata": {
        "id": "mlzgfH7v3Y78",
        "colab_type": "text"
      },
      "source": [
        "# Define Model Classes\n",
        "Each model class should include a `forward` method."
      ]
    },
    {
      "cell_type": "code",
      "metadata": {
        "id": "WkrdxWyddQog",
        "colab_type": "code",
        "colab": {}
      },
      "source": [
        "class LeNet5(nn.Module):\n",
        "  def __init__(self):\n",
        "    super(LeNet5, self).__init__()\n",
        "    # The implementation of the LeNet5 architecture\n",
        "    self.c1 = nn.Conv2d(1, 6, kernel_size=5, stride=1, padding=2)\n",
        "    self.s2 = nn.MaxPool2d(kernel_size=2, stride=2)\n",
        "    self.c3 = nn.Conv2d(6, 16, kernel_size=5, stride=1)\n",
        "    self.s4 = nn.MaxPool2d(kernel_size=2, stride=2)\n",
        "    self.c5 = nn.Linear(16*5*5, 120)\n",
        "    self.f6 = nn.Linear(120, 84)\n",
        "    self.output = nn.Linear(84, 10)\n",
        "    self.act = nn.ReLU()\n",
        "    \n",
        "  def forward(self, x):\n",
        "    # Applying the ReLU activation function throughout the net\n",
        "    x = self.act(self.c1(x))\n",
        "    x = self.act(self.s2(x))\n",
        "    x = self.act(self.c3(x))\n",
        "    x = self.act(self.s4(x))\n",
        "    x = x.view(-1, x.size(1)*x.size(2)*x.size(3))\n",
        "    x = self.act(self.c5(x))\n",
        "    x = self.act(self.f6(x))\n",
        "    return self.output(x)"
      ],
      "execution_count": 0,
      "outputs": []
    },
    {
      "cell_type": "code",
      "metadata": {
        "id": "8Yb5cFLCdlww",
        "colab_type": "code",
        "colab": {}
      },
      "source": [
        "class mLeNet5(nn.Module):\n",
        "  def __init__(self):\n",
        "     super(mLeNet5, self).__init__()\n",
        "     self.c1 = nn.Conv2d(1, 6, kernel_size=5, stride=1, padding=2)\n",
        "     self.s2 = nn.MaxPool2d(kernel_size=2, stride=2)\n",
        "     self.c3 = nn.Conv2d(6, 16, kernel_size=5, stride=1)\n",
        "     self.s4 = nn.MaxPool2d(kernel_size=2, stride=2)\n",
        "     self.c5 = nn.Linear(16*5*5, 1150)\n",
        "     self.f6 = nn.Linear(1150, 256)\n",
        "     self.output = nn.Linear(256, 10)\n",
        "     self.act = nn.ReLU()\n",
        "     self.dp = nn.Dropout(0.5)\n",
        "\n",
        "  def forward(self, x):\n",
        "     x = self.act(self.c1(x))\n",
        "     x = self.act(self.s2(x))\n",
        "     x = self.act(self.c3(x))\n",
        "     x = self.act(self.s4(x))\n",
        "     x = x.view(-1, x.size(1)*x.size(2)*x.size(3))\n",
        "     x = self.act(self.c5(x))\n",
        "     x = self.dp(x)\n",
        "     x = self.act(self.f6(x))\n",
        "     x = self.dp(x)\n",
        "     return self.output(x)"
      ],
      "execution_count": 0,
      "outputs": []
    },
    {
      "cell_type": "code",
      "metadata": {
        "id": "kAJ-xnwtdmeA",
        "colab_type": "code",
        "colab": {}
      },
      "source": [
        "class AlexNetMod(nn.Module):\n",
        "\n",
        "    def __init__(self, num_classes=1000):\n",
        "        super(AlexNetMod, self).__init__()\n",
        "        self.features = nn.Sequential(\n",
        "            nn.Conv2d(1, 256, kernel_size=4, padding=0, stride=2),\n",
        "            nn.ReLU(inplace=True),\n",
        "            nn.Conv2d(256, 256, kernel_size=3, padding=1),\n",
        "            nn.ReLU(inplace=True),\n",
        "            nn.MaxPool2d(kernel_size=3, stride=2),\n",
        "        )\n",
        "        self.classifier = nn.Sequential(\n",
        "            nn.Dropout(),\n",
        "            nn.Linear(256 * 6 * 6, 4096),\n",
        "            nn.ReLU(inplace=True),\n",
        "            nn.Dropout(),\n",
        "            nn.Linear(4096, 4096),\n",
        "            nn.ReLU(inplace=True),\n",
        "            nn.Linear(4096, num_classes),\n",
        "        )\n",
        "\n",
        "    def forward(self, x):\n",
        "        x = self.features(x)\n",
        "        x = x.view(x.size(0), 256 * 6 * 6)\n",
        "        x = self.classifier(x)\n",
        "        return x"
      ],
      "execution_count": 0,
      "outputs": []
    },
    {
      "cell_type": "markdown",
      "metadata": {
        "id": "EnlaMKJW3zGv",
        "colab_type": "text"
      },
      "source": [
        "# Import Data as `torch.Tensor`"
      ]
    },
    {
      "cell_type": "code",
      "metadata": {
        "id": "g8EKHuVcgx-q",
        "colab_type": "code",
        "outputId": "705b39bb-c323-44f0-f9b6-09de77151f2c",
        "colab": {
          "base_uri": "https://localhost:8080/",
          "height": 70
        }
      },
      "source": [
        "# Import Data\n",
        "path=\"sigmoid/data/\"\n",
        "train_data = np.load(path+\"kmnist-train-imgs.npy\")\n",
        "test_data = np.load(path+\"kmnist-test-imgs.npy\")\n",
        "train_labels = np.load(path+\"kmnist-train-labels.npy\")\n",
        "classmap = pd.read_csv(path+\"kmnist_classmap.csv\")\n",
        "\n",
        "# Tensor of training data\n",
        "X = torch.from_numpy(train_data).float()\n",
        "# Tensor of training labels\n",
        "y = torch.from_numpy(train_labels).long()\n",
        "#  Tensor of test data\n",
        "X_test = torch.from_numpy(test_data).float()\n",
        "\n",
        "# Size Check\n",
        "print(\"Train Data:\", X.size())\n",
        "print(\"Test Data:\", X_test.size())\n",
        "print(\"Train Labels:\", y.size())"
      ],
      "execution_count": 8,
      "outputs": [
        {
          "output_type": "stream",
          "text": [
            "Train Data: torch.Size([60000, 28, 28])\n",
            "Test Data: torch.Size([10000, 28, 28])\n",
            "Train Labels: torch.Size([60000])\n"
          ],
          "name": "stdout"
        }
      ]
    },
    {
      "cell_type": "markdown",
      "metadata": {
        "id": "ySzglu6236DP",
        "colab_type": "text"
      },
      "source": [
        "# Model Training, Saving and Loading"
      ]
    },
    {
      "cell_type": "markdown",
      "metadata": {
        "id": "YFWfH8ic3_qC",
        "colab_type": "text"
      },
      "source": [
        "## Example 1: LeNet5 with no Augmentation"
      ]
    },
    {
      "cell_type": "code",
      "metadata": {
        "id": "rFxM3_B3eG42",
        "colab_type": "code",
        "outputId": "9052121e-5134-4b40-97b5-6145f4893735",
        "colab": {
          "base_uri": "https://localhost:8080/",
          "height": 613
        }
      },
      "source": [
        "# Lenet5 no augmentation\n",
        "# Model Name\n",
        "MODEL_NAME = \"lenet5_test\"\n",
        "\n",
        "# Hyperparameters\n",
        "lr = 1e-2\n",
        "momentum = 0.5\n",
        "batch_size = 64\n",
        "test_batch_size = 1000\n",
        "n_epochs = 2\n",
        "patience=5\n",
        "early_stop_tol = 0.000\n",
        "n_folds=0\n",
        "weight_decay=0\n",
        "\n",
        "# Define/Load Model, Optimiser and Loss Function\n",
        "model = LeNet5()\n",
        "optimiser = torch.optim.SGD(model.parameters(), lr=lr, momentum=momentum, weight_decay=weight_decay)\n",
        "loss_function = nn.CrossEntropyLoss()\n",
        "\n",
        "# Create Supervised Learning Object\n",
        "learning = SupervisedLearning(X, y, model, optimiser, loss_function, batch_size, test_batch_size,\n",
        "                 device=device,\n",
        "                 transform=False, \n",
        "                 seed=42, n_epochs=n_epochs,\n",
        "                 val_ratio=0.1, n_splits=n_folds+1, \n",
        "                 early_stop = True,\n",
        "                 patience = patience,\n",
        "                 tol = early_stop_tol)\n",
        "\n",
        "# Train model with validation\n",
        "learning.train_wrapper(train_full=False)\n",
        "print(\"\\n\", learning.logs)\n",
        "\n",
        "# Saving model\n",
        "path = F\"/content/gdrive/My Drive/Models/\"\n",
        "full_save(path, MODEL_NAME, model, optimiser, loss_function, early_stop_tol, learning.logs[\"_i\"], lr, momentum, weight_decay, n_folds, learning.transform, learning.logs[\"val_accuracy\"], learning.logs[\"val_log loss\"], train_time=learning.logs[\"time\"])\n",
        "\n",
        "\n",
        "# Train full model\n",
        "\n",
        "\n",
        "# Save full model\n",
        "\n",
        "\n",
        "# Evaluate and save test dataset prediction\n",
        "norm_mean, norm_std = torch.mean(X/255.), torch.std(X/255.)\n",
        "y_preds, sub = evaluate_test(X_test/255., model, norm_mean, norm_std, \n",
        "                                       test_batch_size=test_batch_size, \n",
        "                                       test_transform=None, \n",
        "                                       device=device, \n",
        "                                       save_to_csv=True, \n",
        "                                       path=path+\"PREDICTION_FILE_NAME_HERE.csv\")\n",
        "print(\"\\nTest Set Predictions:\",y_preds)"
      ],
      "execution_count": 10,
      "outputs": [
        {
          "output_type": "display_data",
          "data": {
            "image/png": "[encoded data removed]",
            "text/plain": [
              "<Figure size 864x576 with 2 Axes>"
            ]
          },
          "metadata": {
            "tags": []
          }
        },
        {
          "output_type": "stream",
          "text": [
            "log loss:\n",
            "training   (min:    0.302, max:    1.078, cur:    0.302)\n",
            "validation (min:    0.226, max:    0.383, cur:    0.226)\n",
            "\n",
            "accuracy:\n",
            "training   (min:    0.648, max:    0.907, cur:    0.907)\n",
            "validation (min:    0.882, max:    0.931, cur:    0.931)\n",
            "Count: 0\n",
            "\n",
            " {'log loss': 0.30240184701813594, 'accuracy': 0.9065555555555556, 'val_log loss': 0.22598050181070964, 'val_accuracy': 0.9315, '_i': 2, 'time': 23.367774963378906}\n",
            "Saving model under: /content/gdrive/My Drive/Models/lenet5_test_931.pth\n"
          ],
          "name": "stdout"
        },
        {
          "output_type": "stream",
          "text": [
            "/usr/local/lib/python3.6/dist-packages/torch/serialization.py:256: UserWarning: Couldn't retrieve source code for container of type LeNet5. It won't be checked for correctness upon loading.\n",
            "  \"type \" + obj.__name__ + \". It won't be checked \"\n"
          ],
          "name": "stderr"
        },
        {
          "output_type": "stream",
          "text": [
            "\n",
            "Test Set Predictions: [3 9 3 ... 9 8 3]\n"
          ],
          "name": "stdout"
        }
      ]
    },
    {
      "cell_type": "markdown",
      "metadata": {
        "id": "RvagKmWg4GWC",
        "colab_type": "text"
      },
      "source": [
        "## Example 2: K-Fold validation LeNet5 Dropout with no augmentation"
      ]
    },
    {
      "cell_type": "code",
      "metadata": {
        "id": "it18ZZp9gv82",
        "colab_type": "code",
        "outputId": "0d0f3926-d1fe-4744-a522-484fdfda49c9",
        "colab": {
          "base_uri": "https://localhost:8080/",
          "height": 773
        }
      },
      "source": [
        "# Lenet5 Dropout no augmentation, K-Fold\n",
        "# Model Name\n",
        "MODEL_NAME = \"mlenet5_test\"\n",
        "\n",
        "# Hyperparameters\n",
        "lr = 1e-2\n",
        "momentum = 0.5\n",
        "batch_size = 64\n",
        "test_batch_size = 1000\n",
        "n_epochs = 2\n",
        "patience=5\n",
        "early_stop_tol = 0.000\n",
        "n_folds=3\n",
        "weight_decay=0\n",
        "\n",
        "# Define/Load Model, Optimiser and Loss Function\n",
        "model = mLeNet5().to(device)\n",
        "optimiser = torch.optim.SGD(model.parameters(), lr=lr, momentum=momentum, weight_decay=weight_decay)\n",
        "loss_function = nn.CrossEntropyLoss()\n",
        "\n",
        "\n",
        "# Create Supervised Learning Object\n",
        "learning = KFoldValidation(X, y, model, optimiser, loss_function, batch_size, test_batch_size,\n",
        "                 device=device, \n",
        "                 confusion_matrix=True, \n",
        "                 transform=False, \n",
        "                 seed=42, n_epochs=n_epochs,\n",
        "                 n_folds=n_folds, \n",
        "                 early_stop = False,\n",
        "                 patience = patience,\n",
        "                 tol = early_stop_tol\n",
        "                     )\n",
        "\n",
        "\n",
        "# Train K-Fold validation model\n",
        "learning.cross_validation()\n",
        "print(\"\\n\", learning.logs)\n",
        "print(\"\\n\", learning.result)\n",
        "\n",
        "# Saving model\n",
        "path = F\"/content/gdrive/My Drive/Models/\"\n",
        "full_save(path, MODEL_NAME, model, optimiser, loss_function, early_stop_tol, learning.logs[\"_i\"], lr, momentum, weight_decay, n_folds, learning.transform, learning.logs[\"val_accuracy\"], learning.logs[\"val_log loss\"], train_time=learning.logs[\"time\"])\n",
        "\n",
        "\n",
        "# Evaluate and save test dataset prediction\n",
        "norm_mean, norm_std = torch.mean(X/255.), torch.std(X/255.)\n",
        "y_preds, sub = evaluate_test(X_test/255., model, norm_mean, norm_std, \n",
        "                                       test_batch_size=test_batch_size, \n",
        "                                       test_transform=None, \n",
        "                                       device=device, \n",
        "                                       save_to_csv=True, \n",
        "                                       path=path+\"PREDICTION_FILE_NAME_HERE.csv\")\n",
        "print(\"\\nTest Set Predictions:\",y_preds)"
      ],
      "execution_count": 0,
      "outputs": [
        {
          "output_type": "display_data",
          "data": {
            "image/png": "[encoded data removed]",
            "text/plain": [
              "<Figure size 864x576 with 2 Axes>"
            ]
          },
          "metadata": {
            "tags": []
          }
        },
        {
          "output_type": "stream",
          "text": [
            "log loss:\n",
            "training   (min:    0.501, max:    1.402, cur:    0.501)\n",
            "validation (min:    0.271, max:    0.538, cur:    0.271)\n",
            "\n",
            "accuracy:\n",
            "training   (min:    0.519, max:    0.844, cur:    0.844)\n",
            "validation (min:    0.835, max:    0.919, cur:    0.919)\n",
            "The  2  fold finished.\n",
            " \n",
            "Result:\n",
            "----------------------------\n",
            "Average validation loss for  3  folds is  0.2771686475118001\n",
            "Average validation accuracy for  3  folds is  0.9149166666666666\n",
            "Average train loss for  3  folds is  0.4980734737237295\n",
            "Average train accuracy for  3  folds is  0.8444916666666668\n",
            "\n",
            " {'log loss': 0.5014449103832245, 'accuracy': 0.84415, 'val_log loss': 0.27073358001708986, 'val_accuracy': 0.9192, '_i': 2, 'time': 20.638493061065674}\n",
            "\n",
            " [0.27073358001708986, 0.9192, 0.5014449103832245, 0.84415]\n",
            "Saving model under: /content/gdrive/My Drive/Models/mlenet5_test_919.pth\n"
          ],
          "name": "stdout"
        },
        {
          "output_type": "stream",
          "text": [
            "/usr/local/lib/python3.6/dist-packages/torch/serialization.py:256: UserWarning: Couldn't retrieve source code for container of type mLeNet5. It won't be checked for correctness upon loading.\n",
            "  \"type \" + obj.__name__ + \". It won't be checked \"\n"
          ],
          "name": "stderr"
        },
        {
          "output_type": "stream",
          "text": [
            "\n",
            "Test Set Predictions: [3 9 3 ... 9 8 6]\n"
          ],
          "name": "stdout"
        }
      ]
    },
    {
      "cell_type": "markdown",
      "metadata": {
        "id": "cpnWPzWX4QmA",
        "colab_type": "text"
      },
      "source": [
        "## Load model and perform predictions on test set"
      ]
    },
    {
      "cell_type": "code",
      "metadata": {
        "id": "L2D2OAnXq59A",
        "colab_type": "code",
        "outputId": "017772f3-0512-4af1-c49c-a92012514f93",
        "colab": {
          "base_uri": "https://localhost:8080/",
          "height": 52
        }
      },
      "source": [
        "# Load a trained model\n",
        "path = F\"/content/gdrive/My Drive/Models/\"\n",
        "model_name=\"lenet_drop_aug_986\"\n",
        "model_alex_aug_full = torch.load(path + model_name + '.pth')\n",
        "norm_mean, norm_std = torch.mean(X/255.), torch.std(X/255.)\n",
        "\n",
        "# Use model to perform predictions on test set\n",
        "y_preds, sub = evaluate_test(X_test/255., model_alex_aug_full, norm_mean, norm_std, \n",
        "                                       test_batch_size=30, \n",
        "                                       test_transform=None, \n",
        "                                       device=device, \n",
        "                                       save_to_csv=True, \n",
        "                                       path=path+\"foo_predictions.csv\")\n",
        "\n",
        "print(\"\\nTest Set Predictions:\", y_preds)"
      ],
      "execution_count": 13,
      "outputs": [
        {
          "output_type": "stream",
          "text": [
            "\n",
            "Test Set Predictions: [2 9 3 ... 9 4 2]\n"
          ],
          "name": "stdout"
        }
      ]
    },
    {
      "cell_type": "code",
      "metadata": {
        "id": "DfEERepD2M00",
        "colab_type": "code",
        "colab": {}
      },
      "source": [
        ""
      ],
      "execution_count": 0,
      "outputs": []
    }
  ]
}