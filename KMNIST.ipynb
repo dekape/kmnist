{
  "nbformat": 4,
  "nbformat_minor": 0,
  "metadata": {
    "colab": {
      "name": "KMNIST.ipynb",
      "version": "0.3.2",
      "provenance": [],
      "collapsed_sections": []
    },
    "kernelspec": {
      "name": "python3",
      "display_name": "Python 3"
    },
    "accelerator": "GPU"
  },
  "cells": [
    {
      "cell_type": "code",
      "metadata": {
        "id": "ZTz3qktmhp6t",
        "colab_type": "code",
        "outputId": "6b7c6167-4178-41c9-9c05-6df2f9883148",
        "colab": {
          "base_uri": "https://localhost:8080/",
          "height": 173
        }
      },
      "source": [
        "from google.colab import drive\n",
        "drive.mount(\"/content/gdrive/\")\n",
        "!ls \"/content/gdrive/My Drive/Sigmoid\""
      ],
      "execution_count": 1,
      "outputs": [
        {
          "output_type": "stream",
          "text": [
            "Go to this URL in a browser: https://accounts.google.com/o/oauth2/auth?client_id=947318989803-6bn6qk8qdgf4n4g3pfee6491hc0brc4i.apps.googleusercontent.com&redirect_uri=urn%3Aietf%3Awg%3Aoauth%3A2.0%3Aoob&scope=email%20https%3A%2F%2Fwww.googleapis.com%2Fauth%2Fdocs.test%20https%3A%2F%2Fwww.googleapis.com%2Fauth%2Fdrive%20https%3A%2F%2Fwww.googleapis.com%2Fauth%2Fdrive.photos.readonly%20https%3A%2F%2Fwww.googleapis.com%2Fauth%2Fpeopleapi.readonly&response_type=code\n",
            "\n",
            "Enter your authorization code:\n",
            "··········\n",
            "Mounted at /content/gdrive/\n",
            "kmnist_classmap.csv   kmnist-train-imgs.npy    Submission.csv\n",
            "KMNIST.ipynb\t      kmnist-train-labels.npy\n",
            "kmnist-test-imgs.npy  models\n"
          ],
          "name": "stdout"
        }
      ]
    },
    {
      "cell_type": "code",
      "metadata": {
        "id": "uuwyYKoCnLl-",
        "colab_type": "code",
        "outputId": "32ed1211-762c-4d89-c5bc-eaebcc1d64bf",
        "colab": {
          "base_uri": "https://localhost:8080/",
          "height": 1040
        }
      },
      "source": [
        "%pylab inline\n",
        "!pip install pycm livelossplot\n",
        "\n",
        "from livelossplot import PlotLosses\n",
        "import numpy as np\n",
        "import pandas as pd\n",
        "from sklearn.metrics import accuracy_score\n",
        "from sklearn.model_selection import StratifiedShuffleSplit\n",
        "import torch\n",
        "import torch.nn as nn\n",
        "import torch.nn.functional as F\n",
        "from torch.utils.data import TensorDataset, DataLoader\n",
        "import torchvision.transforms as transforms\n",
        "\n",
        "device = 'cpu'\n",
        "if torch.cuda.device_count() > 0 and torch.cuda.is_available():\n",
        "    print(\"Cuda installed! Running on GPU!\")\n",
        "    device = 'cuda'\n",
        "else:\n",
        "    print(\"No GPU available!\")\n",
        "    \n",
        "def set_seed(seed):\n",
        "    \"\"\"\n",
        "    Use this to set ALL the random seeds to a fixed value and take out any randomness from cuda kernels\n",
        "    \"\"\"\n",
        "    random.seed(seed)\n",
        "    np.random.seed(seed)\n",
        "    torch.manual_seed(seed)\n",
        "    torch.cuda.manual_seed_all(seed)\n",
        "\n",
        "    torch.backends.cudnn.benchmark = False  ##uses the inbuilt cudnn auto-tuner to find the fastest convolution algorithms. -\n",
        "    torch.backends.cudnn.enabled   = False\n",
        "\n",
        "    return True"
      ],
      "execution_count": 2,
      "outputs": [
        {
          "output_type": "stream",
          "text": [
            "Populating the interactive namespace from numpy and matplotlib\n",
            "Collecting pycm\n",
            "\u001b[?25l  Downloading https://files.pythonhosted.org/packages/35/86/14ebc41098fb81eb7e458d234622a9ce50857bb7d6f350b29765273c00f5/pycm-2.1-py2.py3-none-any.whl (45kB)\n",
            "\u001b[K     |████████████████████████████████| 51kB 2.0MB/s \n",
            "\u001b[?25hCollecting livelossplot\n",
            "  Downloading https://files.pythonhosted.org/packages/55/2b/4be0b3de085cfacf25fc1934f391bd85f90565db4f110f3f7b2220666b09/livelossplot-0.4.0-py3-none-any.whl\n",
            "Collecting art>=1.8 (from pycm)\n",
            "\u001b[?25l  Downloading https://files.pythonhosted.org/packages/6e/cb/12329146ae052d8cc797edec123f87ff54f349af34438d01f1ffe7fc6e1c/art-3.6-py2.py3-none-any.whl (489kB)\n",
            "\u001b[K     |████████████████████████████████| 491kB 8.0MB/s \n",
            "\u001b[?25hRequirement already satisfied: numpy>=1.9.0 in /usr/local/lib/python3.6/dist-packages (from pycm) (1.16.3)\n",
            "Requirement already satisfied: notebook in /usr/local/lib/python3.6/dist-packages (from livelossplot) (5.2.2)\n",
            "Requirement already satisfied: matplotlib in /usr/local/lib/python3.6/dist-packages (from livelossplot) (3.0.3)\n",
            "Collecting coverage>=4.1 (from art>=1.8->pycm)\n",
            "\u001b[?25l  Downloading https://files.pythonhosted.org/packages/f8/4e/f28fc04019bac97d301512d904992791569234a06826cd420f78fba9a361/coverage-4.5.3-cp36-cp36m-manylinux1_x86_64.whl (205kB)\n",
            "\u001b[K     |████████████████████████████████| 215kB 49.2MB/s \n",
            "\u001b[?25hRequirement already satisfied: traitlets>=4.2.1 in /usr/local/lib/python3.6/dist-packages (from notebook->livelossplot) (4.3.2)\n",
            "Requirement already satisfied: terminado>=0.3.3; sys_platform != \"win32\" in /usr/local/lib/python3.6/dist-packages (from notebook->livelossplot) (0.8.2)\n",
            "Requirement already satisfied: ipython-genutils in /usr/local/lib/python3.6/dist-packages (from notebook->livelossplot) (0.2.0)\n",
            "Requirement already satisfied: ipykernel in /usr/local/lib/python3.6/dist-packages (from notebook->livelossplot) (4.6.1)\n",
            "Requirement already satisfied: nbconvert in /usr/local/lib/python3.6/dist-packages (from notebook->livelossplot) (5.5.0)\n",
            "Requirement already satisfied: nbformat in /usr/local/lib/python3.6/dist-packages (from notebook->livelossplot) (4.4.0)\n",
            "Requirement already satisfied: jupyter-client in /usr/local/lib/python3.6/dist-packages (from notebook->livelossplot) (5.2.4)\n",
            "Requirement already satisfied: tornado>=4 in /usr/local/lib/python3.6/dist-packages (from notebook->livelossplot) (4.5.3)\n",
            "Requirement already satisfied: jinja2 in /usr/local/lib/python3.6/dist-packages (from notebook->livelossplot) (2.10.1)\n",
            "Requirement already satisfied: jupyter-core in /usr/local/lib/python3.6/dist-packages (from notebook->livelossplot) (4.4.0)\n",
            "Requirement already satisfied: kiwisolver>=1.0.1 in /usr/local/lib/python3.6/dist-packages (from matplotlib->livelossplot) (1.1.0)\n",
            "Requirement already satisfied: cycler>=0.10 in /usr/local/lib/python3.6/dist-packages (from matplotlib->livelossplot) (0.10.0)\n",
            "Requirement already satisfied: python-dateutil>=2.1 in /usr/local/lib/python3.6/dist-packages (from matplotlib->livelossplot) (2.5.3)\n",
            "Requirement already satisfied: pyparsing!=2.0.4,!=2.1.2,!=2.1.6,>=2.0.1 in /usr/local/lib/python3.6/dist-packages (from matplotlib->livelossplot) (2.4.0)\n",
            "Requirement already satisfied: decorator in /usr/local/lib/python3.6/dist-packages (from traitlets>=4.2.1->notebook->livelossplot) (4.4.0)\n",
            "Requirement already satisfied: six in /usr/local/lib/python3.6/dist-packages (from traitlets>=4.2.1->notebook->livelossplot) (1.12.0)\n",
            "Requirement already satisfied: ptyprocess; os_name != \"nt\" in /usr/local/lib/python3.6/dist-packages (from terminado>=0.3.3; sys_platform != \"win32\"->notebook->livelossplot) (0.6.0)\n",
            "Requirement already satisfied: ipython>=4.0.0 in /usr/local/lib/python3.6/dist-packages (from ipykernel->notebook->livelossplot) (5.5.0)\n",
            "Requirement already satisfied: pygments in /usr/local/lib/python3.6/dist-packages (from nbconvert->notebook->livelossplot) (2.1.3)\n",
            "Requirement already satisfied: pandocfilters>=1.4.1 in /usr/local/lib/python3.6/dist-packages (from nbconvert->notebook->livelossplot) (1.4.2)\n",
            "Requirement already satisfied: testpath in /usr/local/lib/python3.6/dist-packages (from nbconvert->notebook->livelossplot) (0.4.2)\n",
            "Requirement already satisfied: defusedxml in /usr/local/lib/python3.6/dist-packages (from nbconvert->notebook->livelossplot) (0.6.0)\n",
            "Requirement already satisfied: bleach in /usr/local/lib/python3.6/dist-packages (from nbconvert->notebook->livelossplot) (3.1.0)\n",
            "Requirement already satisfied: entrypoints>=0.2.2 in /usr/local/lib/python3.6/dist-packages (from nbconvert->notebook->livelossplot) (0.3)\n",
            "Requirement already satisfied: mistune>=0.8.1 in /usr/local/lib/python3.6/dist-packages (from nbconvert->notebook->livelossplot) (0.8.4)\n",
            "Requirement already satisfied: jsonschema!=2.5.0,>=2.4 in /usr/local/lib/python3.6/dist-packages (from nbformat->notebook->livelossplot) (2.6.0)\n",
            "Requirement already satisfied: pyzmq>=13 in /usr/local/lib/python3.6/dist-packages (from jupyter-client->notebook->livelossplot) (17.0.0)\n",
            "Requirement already satisfied: MarkupSafe>=0.23 in /usr/local/lib/python3.6/dist-packages (from jinja2->notebook->livelossplot) (1.1.1)\n",
            "Requirement already satisfied: setuptools in /usr/local/lib/python3.6/dist-packages (from kiwisolver>=1.0.1->matplotlib->livelossplot) (41.0.1)\n",
            "Requirement already satisfied: prompt-toolkit<2.0.0,>=1.0.4 in /usr/local/lib/python3.6/dist-packages (from ipython>=4.0.0->ipykernel->notebook->livelossplot) (1.0.16)\n",
            "Requirement already satisfied: pickleshare in /usr/local/lib/python3.6/dist-packages (from ipython>=4.0.0->ipykernel->notebook->livelossplot) (0.7.5)\n",
            "Requirement already satisfied: simplegeneric>0.8 in /usr/local/lib/python3.6/dist-packages (from ipython>=4.0.0->ipykernel->notebook->livelossplot) (0.8.1)\n",
            "Requirement already satisfied: pexpect; sys_platform != \"win32\" in /usr/local/lib/python3.6/dist-packages (from ipython>=4.0.0->ipykernel->notebook->livelossplot) (4.7.0)\n",
            "Requirement already satisfied: webencodings in /usr/local/lib/python3.6/dist-packages (from bleach->nbconvert->notebook->livelossplot) (0.5.1)\n",
            "Requirement already satisfied: wcwidth in /usr/local/lib/python3.6/dist-packages (from prompt-toolkit<2.0.0,>=1.0.4->ipython>=4.0.0->ipykernel->notebook->livelossplot) (0.1.7)\n",
            "\u001b[31mERROR: datascience 0.10.6 has requirement coverage==3.7.1, but you'll have coverage 4.5.3 which is incompatible.\u001b[0m\n",
            "\u001b[31mERROR: datascience 0.10.6 has requirement folium==0.2.1, but you'll have folium 0.8.3 which is incompatible.\u001b[0m\n",
            "\u001b[31mERROR: coveralls 0.5 has requirement coverage<3.999,>=3.6, but you'll have coverage 4.5.3 which is incompatible.\u001b[0m\n",
            "Installing collected packages: coverage, art, pycm, livelossplot\n",
            "  Found existing installation: coverage 3.7.1\n",
            "    Uninstalling coverage-3.7.1:\n",
            "      Successfully uninstalled coverage-3.7.1\n",
            "Successfully installed art-3.6 coverage-4.5.3 livelossplot-0.4.0 pycm-2.1\n",
            "Cuda installed! Running on GPU!\n"
          ],
          "name": "stdout"
        }
      ]
    },
    {
      "cell_type": "code",
      "metadata": {
        "id": "acuv09g7h5gZ",
        "colab_type": "code",
        "colab": {}
      },
      "source": [
        "path=\"/content/gdrive/My Drive/Sigmoid/\"\n",
        "train_data = np.load(path+\"kmnist-train-imgs.npy\")\n",
        "test_data = np.load(path+\"kmnist-test-imgs.npy\")\n",
        "train_labels = np.load(path+\"kmnist-train-labels.npy\")\n",
        "classmap = pd.read_csv(path+\"kmnist_classmap.csv\")"
      ],
      "execution_count": 0,
      "outputs": []
    },
    {
      "cell_type": "code",
      "metadata": {
        "id": "M29ZqGqtvbRt",
        "colab_type": "code",
        "outputId": "61f74633-c476-4d7e-cc56-ce563a626727",
        "colab": {
          "base_uri": "https://localhost:8080/",
          "height": 68
        }
      },
      "source": [
        "print(\"Train Data:\", train_data.shape)\n",
        "print(\"Test Data:\", test_data.shape)\n",
        "print(\"Train Labels:\", train_labels.shape)"
      ],
      "execution_count": 4,
      "outputs": [
        {
          "output_type": "stream",
          "text": [
            "Train Data: (60000, 28, 28)\n",
            "Test Data: (10000, 28, 28)\n",
            "Train Labels: (60000,)\n"
          ],
          "name": "stdout"
        }
      ]
    },
    {
      "cell_type": "code",
      "metadata": {
        "id": "9vKCRpy20NRP",
        "colab_type": "code",
        "colab": {}
      },
      "source": [
        "# Tensor of training data\n",
        "X = torch.from_numpy(train_data).float()\n",
        "# Tensor of training labels\n",
        "y = torch.from_numpy(train_labels).long()\n",
        "#  Tensor of test data\n",
        "X_test = torch.from_numpy(test_data).float()"
      ],
      "execution_count": 0,
      "outputs": []
    },
    {
      "cell_type": "code",
      "metadata": {
        "id": "zeR0TZDd7sDZ",
        "colab_type": "code",
        "colab": {}
      },
      "source": [
        "class CustomTensorDataset(torch.utils.data.Dataset):\n",
        "    def __init__(self, data, targets, transform=None):\n",
        "        \"\"\"\n",
        "        Args:\n",
        "            data (Tensor): A tensor containing the data e.g. images\n",
        "            targets (Tensor): A tensor containing all the labels\n",
        "            transform (callable, optional): Optional transform to be applied\n",
        "                on a sample.\n",
        "        \"\"\"\n",
        "        self.data = data\n",
        "        self.targets = targets\n",
        "        self.transform = transform\n",
        "\n",
        "    def __len__(self):\n",
        "        return len(self.data)\n",
        "\n",
        "    def __getitem__(self, idx):\n",
        "        sample, label = self.data[idx], self.targets[idx]\n",
        "        sample = sample.view(1, 28, 28).float()\n",
        "        if self.transform:\n",
        "            sample = self.transform(sample)\n",
        "\n",
        "        return sample, label"
      ],
      "execution_count": 0,
      "outputs": []
    },
    {
      "cell_type": "code",
      "metadata": {
        "id": "LUcWC0BswbHp",
        "colab_type": "code",
        "colab": {}
      },
      "source": [
        "def normalise_image(data, mean, std):\n",
        "  X_norm = data[:].float()\n",
        "  X_norm = X_norm - mean\n",
        "  X_norm = X_norm / std\n",
        "  return X_norm"
      ],
      "execution_count": 0,
      "outputs": []
    },
    {
      "cell_type": "code",
      "metadata": {
        "id": "1R0pL3Gz0-wE",
        "colab_type": "code",
        "colab": {}
      },
      "source": [
        "# Model and Optimiser selection\n",
        "\n",
        "class LeNet5(nn.Module):\n",
        "  def __init__(self):\n",
        "    super(LeNet5, self).__init__()\n",
        "    # The implementation of the LeNet5 architecture\n",
        "    self.c1 = nn.Conv2d(1, 6, kernel_size=5, stride=1, padding=2)\n",
        "    self.s2 = nn.MaxPool2d(kernel_size=2, stride=2)\n",
        "    self.c3 = nn.Conv2d(6, 16, kernel_size=5, stride=1)\n",
        "    self.s4 = nn.MaxPool2d(kernel_size=2, stride=2)\n",
        "    self.c5 = nn.Linear(16*5*5, 120)\n",
        "    self.f6 = nn.Linear(120, 84)\n",
        "    self.output = nn.Linear(84, 10)\n",
        "    self.act = nn.ReLU()\n",
        "    \n",
        "  def forward(self, x):\n",
        "    # Applying the ReLU activation function throughout the net\n",
        "    x = self.act(self.c1(x))\n",
        "    x = self.act(self.s2(x))\n",
        "    x = self.act(self.c3(x))\n",
        "    x = self.act(self.s4(x))\n",
        "    x = x.view(-1, x.size(1)*x.size(2)*x.size(3))\n",
        "    x = self.act(self.c5(x))\n",
        "    x = self.act(self.f6(x))\n",
        "    return self.output(x)"
      ],
      "execution_count": 0,
      "outputs": []
    },
    {
      "cell_type": "code",
      "metadata": {
        "id": "196XvbRlrSPQ",
        "colab_type": "code",
        "colab": {}
      },
      "source": [
        "class SupervisedLearning:\n",
        "    def __init__(self, X, y, model, optimiser, loss_function, batch_size, test_batch_size,\n",
        "                 device=\"cpu\", \n",
        "                 confusion_matrix=True, \n",
        "                 train_transform=None,\n",
        "                 val_transform=None, \n",
        "                 seed=42, n_epochs=30,\n",
        "                 val_ratio=0.1, n_splits=1, \n",
        "                 early_stop = True,\n",
        "                 patience = None,\n",
        "                 tol = None):\n",
        "      \"\"\"\n",
        "      \n",
        "      \"\"\"\n",
        "      \n",
        "      self.device = device\n",
        "      \n",
        "      self.X = X.float()/255.\n",
        "      self.y = y\n",
        "      \n",
        "      self.model = model.to(self.device)\n",
        "      self.optimiser = optimiser\n",
        "      self.loss_function = loss_function\n",
        "      \n",
        "      self.X_train = None\n",
        "      self.X_val = None\n",
        "      \n",
        "      self.y_train = None\n",
        "      self.y_val = None\n",
        "      \n",
        "      self.train_transform = train_transform\n",
        "      self.val_transform = val_transform\n",
        "      \n",
        "      assert(batch_size > 0 and batch_size < int(0.1 * X.size()[0]))\n",
        "      self.batch_size = batch_size\n",
        "      assert(test_batch_size > 0 and test_batch_size < int(0.1 * X.size()[0]))\n",
        "      self.test_batch_size = test_batch_size\n",
        "      self.n_epochs = n_epochs\n",
        "      self.seed = seed\n",
        "      self.val_ratio = val_ratio\n",
        "      self.n_splits = n_splits\n",
        "\n",
        "      self.trained_full=False\n",
        "      \n",
        "      self.mean_full = None\n",
        "      self.std_full = None\n",
        "      self.mean = None\n",
        "      self.std = None\n",
        "      \n",
        "      self.logs = None # saves the liveloss object data\n",
        "      \n",
        "      self.best_model = None\n",
        "      \n",
        "      self.early_stop = early_stop\n",
        "      if self.early_stop: self.early =  early_stopping(patience=patience, rel_tol=tol)  \n",
        "      \n",
        "      \n",
        "    def split_data(self):\n",
        "      sss = StratifiedShuffleSplit(n_splits=self.n_splits, test_size=self.val_ratio, random_state=0)\n",
        "      sss.get_n_splits(self.X, self.y)\n",
        "\n",
        "      for train_index, val_index in sss.split(self.X, self.y):\n",
        "        self.X_train, self.X_val = self.X[train_index], self.X[val_index]\n",
        "        self.y_train, self.y_val = self.y[train_index], self.y[val_index]\n",
        "        \n",
        "      return None\n",
        "      \n",
        "      \n",
        "      \n",
        "    def train(self, train_data_loader):\n",
        "      self.model.train()                # set model to train mode\n",
        "      \n",
        "      train_loss, train_accuracy = 0., 0.\n",
        "      \n",
        "      for Xtr, ytr in train_data_loader:# X and y are data inside a batch specified\n",
        "                                        # at train_data_loader\n",
        "        Xtr = Xtr.to(self.device)\n",
        "        ytr = ytr.to(self.device)\n",
        "        \n",
        "        optimiser.zero_grad()           # reset gradients\n",
        "        zn = model(Xtr)                 # perform forward pass\n",
        "        \n",
        "        loss = loss_function(zn, ytr)   # compute loss value over batch\n",
        "        loss.backward()                 # perform backward pass\n",
        "        train_loss += (loss * Xtr.size()[0]).detach().cpu().numpy()\n",
        "        \n",
        "\n",
        "        y_pred = F.log_softmax(zn, dim=1).max(1)[1]\n",
        "        train_accuracy += accuracy_score(ytr.cpu().numpy(), y_pred.detach().cpu().numpy())*Xtr.size()[0]\n",
        "        \n",
        "        optimiser.step()               # optimisation step\n",
        "        \n",
        "      return train_loss/len(train_data_loader.dataset), train_accuracy/len(train_data_loader.dataset)\n",
        "    \n",
        "    \n",
        "    \n",
        "    def validate(self, val_data_loader):\n",
        "      self.model.eval()                     # set model to evaluation mode\n",
        "      \n",
        "      validation_loss, validation_accuracy = 0., 0.\n",
        "      \n",
        "      for Xv, yv in val_data_loader:\n",
        "        with torch.no_grad():\n",
        "          \n",
        "          Xv, yv = Xv.to(self.device), yv.to(self.device)\n",
        "          \n",
        "          zn = model(Xv)\n",
        "          loss = loss_function(zn, yv)\n",
        "          validation_loss += (loss * Xv.size(0)).detach().cpu().numpy()\n",
        "          \n",
        "          y_pred = F.log_softmax(zn, dim=1).max(1)[1]\n",
        "          validation_accuracy += accuracy_score(yv.cpu().numpy(), y_pred.detach().cpu().numpy())*Xv.size(0)\n",
        "\n",
        "            \n",
        "      return validation_loss/len(val_data_loader.dataset), validation_accuracy/len(val_data_loader.dataset)\n",
        "        \n",
        "      \n",
        "    \n",
        "    def train_wrapper(self, train_full=False, plot_loss=True):\n",
        "      # set seed\n",
        "      set_seed(int(self.seed))\n",
        "      \n",
        "      \n",
        "      if train_full: # train with full data (train + validation)\n",
        "        # find mean and std of training data\n",
        "        mean, std = self.find_mean_std(train_full)\n",
        "        \n",
        "        # create dataloaders\n",
        "        train_dataset = CustomTensorDataset(normalise_image(self.X, mean, std), self.y, transform=self.train_transform)\n",
        "        train_data_loader = DataLoader(train_dataset, batch_size=self.batch_size, shuffle=True)\n",
        "        \n",
        "        best_train_acc = 0\n",
        "        \n",
        "        # train and validate\n",
        "        if plot_loss: liveloss = PlotLosses()\n",
        "        for epoch in range(self.n_epochs):\n",
        "            logs = {}\n",
        "            train_loss, train_accuracy = self.train(train_data_loader)\n",
        "\n",
        "            if plot_loss:\n",
        "              logs['' + 'log loss'] = train_loss.item()\n",
        "              logs['' + 'accuracy'] = train_accuracy.item()\n",
        "              logs['val_' + 'log loss'] = 1.\n",
        "              logs['val_' + 'accuracy'] = 1.\n",
        "              liveloss.update(logs)\n",
        "              liveloss.draw()\n",
        "              \n",
        "            # Checking stopping criteria\n",
        "            if self.early_stop: self.early(train_accuracy)\n",
        "                \n",
        "            # Saving the best weights    \n",
        "            if train_accuracy.item() > best_train_acc:  \n",
        "              # Saving the models weights to best model\n",
        "              self.best_model = self.model\n",
        "              best_train_acc = train_accuracy.item()\n",
        "            \n",
        "            # If the stopping criteria is met  \n",
        "            if self.early.stop: \n",
        "                self.model = self.best_model\n",
        "                break\n",
        "                \n",
        "        self.trained_full=True\n",
        "        self.logs = liveloss\n",
        "\n",
        "      else:\n",
        "        # split data\n",
        "        self.split_data()\n",
        "        \n",
        "        # find mean and std of training data\n",
        "        mean, std = self.find_mean_std(train_full)\n",
        "        \n",
        "        \n",
        "        # create dataloaders\n",
        "\n",
        "        train_dataset = CustomTensorDataset(normalise_image(self.X_train, mean, std), self.y_train, transform=self.train_transform)\n",
        "        train_data_loader = DataLoader(train_dataset, batch_size=self.batch_size, shuffle=True)\n",
        "        \n",
        "        val_dataset = CustomTensorDataset(normalise_image(self.X_val, mean, std), self.y_val, transform=self.val_transform)\n",
        "        val_data_loader = DataLoader(val_dataset, batch_size=self.test_batch_size, shuffle=False)\n",
        "        \n",
        "        best_val_acc = 0\n",
        "            \n",
        "        # train and validate\n",
        "        if plot_loss: liveloss = PlotLosses()\n",
        "        for epoch in range(self.n_epochs):\n",
        "            logs = {}\n",
        "            train_loss, train_accuracy = self.train(train_data_loader)\n",
        "            val_loss, val_accuracy = self.validate(val_data_loader)\n",
        "            \n",
        "            if plot_loss:\n",
        "              logs['' + 'log loss'] = train_loss.item()\n",
        "              logs['' + 'accuracy'] = train_accuracy.item()\n",
        "              logs['val_' + 'log loss'] = val_loss.item()\n",
        "              logs['val_' + 'accuracy'] = val_accuracy.item() # liveloss wants it plotted\n",
        "              liveloss.update(logs)\n",
        "              liveloss.draw() \n",
        "            \n",
        "            # Checking stopping criteria\n",
        "            if self.early_stop: self.early(val_accuracy)\n",
        "                \n",
        "            # Saving the best weights    \n",
        "            if val_accuracy.item() > best_val_acc:  \n",
        "              self.best_model = self.model\n",
        "              best_val_acc = val_accuracy.item()\n",
        "            \n",
        "            # If the stopping criteria is met  \n",
        "            if self.early.stop: \n",
        "                self.model = self.best_model\n",
        "                break\n",
        "\n",
        "        self.logs = logs\n",
        "        self.trained_full=False\n",
        "        self.model = self.best_model\n",
        "              \n",
        "      return None\n",
        "            \n",
        "            \n",
        "    def evaluate_batch(self, X_test, y_test, confusion_matrix=True, test_transform=None):\n",
        "      \"\"\"\n",
        "      This method performs the same as validate but also returns all predictions on a given dataset\n",
        "      for a trained model.\n",
        "      \"\"\"\n",
        "      self.model.eval()\n",
        "      \n",
        "      mean, std = self.find_mean_std(True)\n",
        "      \n",
        "      test_dataset = CustomTensorDataset(normalise_image(X_test, mean, std), y_test, transform=test_transform)\n",
        "      test_data_loader = DataLoader(test_dataset, batch_size=self.test_batch_size, shuffle=True)\n",
        "      \n",
        "      ys, y_preds = [], []\n",
        "      for X, y in test_data_loader:\n",
        "          with torch.no_grad():\n",
        "              X, y = X.to(self.device), y.to(self.device)\n",
        "              a2 = self.model(X)\n",
        "              y_pred = F.log_softmax(a2, dim=1).max(1)[1]\n",
        "              ys.append(y.cpu().numpy())\n",
        "              y_preds.append(y_pred.cpu().numpy())\n",
        "            \n",
        "      y_preds, ys =  np.concatenate(y_preds, 0),  np.concatenate(ys, 0)\n",
        "      \n",
        "      test_loss, test_accuracy = self.validate(test_data_loader)\n",
        "      \n",
        "      if confusion_matrix:\n",
        "        cm = ConfusionMatrix(actual_vector=ys, predict_vector=y_preds)\n",
        "        print(cm)\n",
        "        \n",
        "        \n",
        "      return y_preds, ys, test_loss, test_accuracy\n",
        "    \n",
        "    \n",
        "    def get_hyperparameters(self):\n",
        "      \"\"\"\n",
        "      Returns a dictiorary with the follwing hyperparameters:\n",
        "      \n",
        "      \"\"\"\n",
        "      \n",
        "      return None\n",
        "    \n",
        "    \n",
        "    def find_mean_std(self, full_training=False):\n",
        "      \"\"\"\n",
        "      Finds the mean and std values of a normalised image (divided by 255)\n",
        "      \"\"\"\n",
        "      mean = 0\n",
        "      std = 0\n",
        "      \n",
        "      if full_training:\n",
        "        mean = torch.mean(self.X)\n",
        "        std = torch.std(self.X)\n",
        "        \n",
        "        self.mean_full = mean\n",
        "        self.std_full = std\n",
        "        \n",
        "      else:\n",
        "        mean = torch.mean(self.X_train)\n",
        "        std = torch.std(self.X_train)\n",
        "        self.mean = mean\n",
        "        self.std = std\n",
        "        \n",
        "      return mean, std"
      ],
      "execution_count": 0,
      "outputs": []
    },
    {
      "cell_type": "code",
      "metadata": {
        "id": "GclojRoeuYvy",
        "colab_type": "code",
        "colab": {}
      },
      "source": [
        "class early_stopping:\n",
        "  \"\"\"\n",
        "  Counter to implement early stopping\n",
        "  If validation accuracy has not relative improved above\n",
        "  a absolute tolerance set by the user than it breaks the \n",
        "  training\n",
        "  If rel_tol is set to 0 it becomes a common counter\n",
        "  \"\"\"\n",
        "  def __init__(self, patience, rel_tol, verbose=True):\n",
        "\n",
        "    \n",
        "    self.patience = patience\n",
        "    self.rel_tol = rel_tol\n",
        "    self.verbose = verbose\n",
        "    self.best_score = 0\n",
        "    self.counter = 0\n",
        "    self.stop = False\n",
        "\n",
        "  \n",
        "  def __call__(self, score):\n",
        "    \n",
        "    # If the score is under the required relative tolerance\n",
        "    # increase the counter is incremented\n",
        "    if score < self.best_score * (1 + self.rel_tol):\n",
        "        self.counter += 1\n",
        "    else:\n",
        "        self.counter = 0\n",
        "        \n",
        "    if score > self.best_score:\n",
        "      self.best_score = score\n",
        "\n",
        "      \n",
        "    if self.counter >= self.patience:\n",
        "      self.stop = True    \n",
        "      \n",
        "    if self.verbose:\n",
        "      print(\"Count:\", self.counter)"
      ],
      "execution_count": 0,
      "outputs": []
    },
    {
      "cell_type": "code",
      "metadata": {
        "id": "alT8muPvtmI7",
        "colab_type": "code",
        "colab": {}
      },
      "source": [
        "def model_save(model, name, path, val_score):\n",
        "  \"\"\"Saving function to keep track of models\"\"\"\n",
        "  val = str(val_score)[2:5]\n",
        "  path = path + name + '_' + val + '.pth'\n",
        "  print(path)\n",
        "  torch.save(model, path)\n",
        "  return\n",
        "\n",
        "\n",
        "def model_load(path, model_name):\n",
        "  \"\"\"Loading function for models from google drive\"\"\"\n",
        "  print(path + model_name + '.pth')\n",
        "  model = torch.load(path + model_name + '.pth')\n",
        "  return model"
      ],
      "execution_count": 0,
      "outputs": []
    },
    {
      "cell_type": "code",
      "metadata": {
        "id": "2XjSwCPn01eD",
        "colab_type": "code",
        "colab": {}
      },
      "source": [
        "# Hyperparameters\n",
        "lr = 1e-2\n",
        "momentum = 0.5\n",
        "batch_size = 64\n",
        "test_batch_size = 1000\n",
        "n_epochs = 30\n",
        "\n",
        "model = LeNet5()\n",
        "optimiser = torch.optim.SGD(model.parameters(), lr=lr, momentum=momentum)\n",
        "loss_function = nn.CrossEntropyLoss()"
      ],
      "execution_count": 0,
      "outputs": []
    },
    {
      "cell_type": "code",
      "metadata": {
        "id": "BeoR1-uT1Re4",
        "colab_type": "code",
        "outputId": "bb99dd9d-4c90-494a-cc9d-a04ea98a77f9",
        "colab": {
          "base_uri": "https://localhost:8080/",
          "height": 462
        }
      },
      "source": [
        "learning = SupervisedLearning(X, y, model, optimiser, loss_function, batch_size, test_batch_size,\n",
        "                 device=\"cpu\", \n",
        "                 confusion_matrix=True, \n",
        "                 train_transform=None,\n",
        "                 val_transform=None, \n",
        "                 seed=42, n_epochs=2,\n",
        "                 val_ratio=0.1, n_splits=1, \n",
        "                 early_stop = True,\n",
        "                 patience = 5,\n",
        "                 tol = 0.001)\n",
        "\n",
        "learning.train_wrapper(train_full=False)"
      ],
      "execution_count": 14,
      "outputs": [
        {
          "output_type": "display_data",
          "data": {
            "image/png": "[encoded data removed]",
            "text/plain": [
              "<Figure size 864x576 with 2 Axes>"
            ]
          },
          "metadata": {
            "tags": []
          }
        },
        {
          "output_type": "stream",
          "text": [
            "log loss:\n",
            "training   (min:    0.319, max:    1.104, cur:    0.319)\n",
            "validation (min:    0.259, max:    0.412, cur:    0.259)\n",
            "\n",
            "accuracy:\n",
            "training   (min:    0.637, max:    0.901, cur:    0.901)\n",
            "validation (min:    0.871, max:    0.920, cur:    0.920)\n",
            "Count: 0\n"
          ],
          "name": "stdout"
        }
      ]
    },
    {
      "cell_type": "code",
      "metadata": {
        "id": "ksjY3juECfYx",
        "colab_type": "code",
        "colab": {}
      },
      "source": [
        " def evaluate_test(X_test, model, norm_mean, norm_std, test_batch_size=30, test_transform=None, device=\"cpu\", save_to_csv=False, path=\"/content/gdrive/My Drive/foo.csv\"):\n",
        "      \"\"\"\n",
        "      This method takes a tensor of images and a trained model and returns the predicted labels\n",
        "      from those images\n",
        "      Params\n",
        "      ------\n",
        "        X_test: torch.tensor of size (no_images, 28, 28), test images dataset\n",
        "        model: nn.Module or inherited class object\n",
        "        test_batch_size: int, defines the size of the batch for the datset\n",
        "        test_transform: transforms.Compose list of transforms to apply to the dataset\n",
        "        device: str, on which device to run the model\n",
        "        save_to_csv: bool, option to save predictions to csv in format (index, prediction)\n",
        "        path: str, path to save string \n",
        "        \n",
        "      Returns\n",
        "      -------\n",
        "        y_preds: np.array of predictios made on X_test by the trained model\n",
        "        \n",
        "      \"\"\"\n",
        "      model.eval()\n",
        "      model.to(device)\n",
        "      y_test = torch.zeros_like(X_test)\n",
        "      test_dataset = CustomTensorDataset(normalise_image(X_test/255., norm_mean, norm_std), y_test, transform=test_transform)\n",
        "      test_data_loader = DataLoader(test_dataset, test_batch_size, shuffle=False)\n",
        "      \n",
        "      y_preds = []\n",
        "      for X, y in test_data_loader:\n",
        "          with torch.no_grad():\n",
        "              X, y = X.to(device), y.to(device)\n",
        "              a2 = model(X)\n",
        "              y_pred = F.log_softmax(a2, dim=1).max(1)[1]\n",
        "              y_preds.append(y_pred.cpu().numpy())\n",
        "            \n",
        "      y_preds =  np.concatenate(y_preds, 0)\n",
        "      sub = pd.DataFrame(data={'Category': y_preds})\n",
        "      \n",
        "      sub.index.name = \"Id\" \n",
        "      \n",
        "      if save_to_csv: sub.to_csv(path)\n",
        "\n",
        "      return y_preds, sub"
      ],
      "execution_count": 0,
      "outputs": []
    },
    {
      "cell_type": "code",
      "metadata": {
        "id": "yWM8EDoFChFc",
        "colab_type": "code",
        "colab": {}
      },
      "source": [
        "y_preds, df = evaluate_test(X_test, learning.model, learning.mean, learning.std, save_to_csv=True, path=\"/content/gdrive/My Drive/Sigmoid/Submission.csv\")"
      ],
      "execution_count": 0,
      "outputs": []
    },
    {
      "cell_type": "code",
      "metadata": {
        "id": "55uoAHusvQKN",
        "colab_type": "code",
        "colab": {
          "base_uri": "https://localhost:8080/",
          "height": 105
        },
        "outputId": "5ff5c43f-23a8-483a-f388-f2d1709aae17"
      },
      "source": [
        "# Examples of save and load functionality\n",
        "model_save(learning.model, \"lenet5\", path + \"Models/\", learning.logs[\"val_accuracy\"])\n",
        "model_1 = model_load(path + \"Models/\", model_name=\"lenet5_920\" )"
      ],
      "execution_count": 77,
      "outputs": [
        {
          "output_type": "stream",
          "text": [
            "/content/gdrive/My Drive/Sigmoid/Models/lenet5_920.pth\n",
            "/content/gdrive/My Drive/Sigmoid/Models/lenet5_920.pth\n"
          ],
          "name": "stdout"
        },
        {
          "output_type": "stream",
          "text": [
            "/usr/local/lib/python3.6/dist-packages/torch/serialization.py:256: UserWarning: Couldn't retrieve source code for container of type LeNet5. It won't be checked for correctness upon loading.\n",
            "  \"type \" + obj.__name__ + \". It won't be checked \"\n"
          ],
          "name": "stderr"
        }
      ]
    },
    {
      "cell_type": "code",
      "metadata": {
        "id": "Q_AQyy201wSH",
        "colab_type": "code",
        "colab": {}
      },
      "source": [
        "class ensemble_net(nn.Module):\n",
        "    def __init__(self, modelA, modelB):\n",
        "        super(ensemble_net, self).__init__()\n",
        "        self.modelA = modelA\n",
        "        self.modelB = modelB\n",
        "        self.classifier = nn.Linear(4, 2)\n",
        "        \n",
        "    def forward(self, x1, x2):\n",
        "        x1 = self.modelA(x1)\n",
        "        x2 = self.modelB(x2)\n",
        "        x = torch.cat((x1, x2), dim=1)\n",
        "        x = self.classifier(F.relu(x))\n",
        "        return x"
      ],
      "execution_count": 0,
      "outputs": []
    },
    {
      "cell_type": "code",
      "metadata": {
        "id": "sQt-0WExz4Jq",
        "colab_type": "code",
        "colab": {
          "base_uri": "https://localhost:8080/",
          "height": 51
        },
        "outputId": "3a757727-592b-4980-a946-a02000353ec4"
      },
      "source": [
        "model_1 = model_load(path + \"Models/\", model_name=\"lenet5_920\" ).state_dict()\n",
        "model_2 = model_load(path + \"Models/\", model_name=\"lenet5_920\" ).state_dict()\n",
        "\n",
        "model = ensemble_net(model_1, model_2)"
      ],
      "execution_count": 81,
      "outputs": [
        {
          "output_type": "stream",
          "text": [
            "/content/gdrive/My Drive/Sigmoid/Models/lenet5_920.pth\n",
            "/content/gdrive/My Drive/Sigmoid/Models/lenet5_920.pth\n"
          ],
          "name": "stdout"
        }
      ]
    },
    {
      "cell_type": "code",
      "metadata": {
        "id": "4WcNPXzTEIYq",
        "colab_type": "code",
        "outputId": "1502565b-a93e-459a-8340-e0a99e803ee1",
        "colab": {
          "base_uri": "https://localhost:8080/",
          "height": 374
        }
      },
      "source": [
        "print(classmap)\n",
        "\n",
        "for i in range(10):\n",
        "  print(y_preds[i], classmap[\"char\"].iloc[y_preds[i]])"
      ],
      "execution_count": 0,
      "outputs": [
        {
          "output_type": "stream",
          "text": [
            "   index codepoint char\n",
            "0      0    U+304A    お\n",
            "1      1    U+304D    き\n",
            "2      2    U+3059    す\n",
            "3      3    U+3064    つ\n",
            "4      4    U+306A    な\n",
            "5      5    U+306F    は\n",
            "6      6    U+307E    ま\n",
            "7      7    U+3084    や\n",
            "8      8    U+308C    れ\n",
            "9      9    U+3092    を\n",
            "2 す\n",
            "9 を\n",
            "3 つ\n",
            "8 れ\n",
            "3 つ\n",
            "3 つ\n",
            "8 れ\n",
            "3 つ\n",
            "6 ま\n",
            "5 は\n"
          ],
          "name": "stdout"
        }
      ]
    },
    {
      "cell_type": "code",
      "metadata": {
        "id": "SOdeQC62DkGR",
        "colab_type": "code",
        "outputId": "e3919c46-c1bd-4ad6-9f57-e35e3a3065d1",
        "colab": {
          "base_uri": "https://localhost:8080/",
          "height": 282
        }
      },
      "source": [
        "plt.figure(figsize=(20,4))\n",
        "for i in range(20):\n",
        "    plt.subplot(2,10,i+1)\n",
        "    plt.xticks([])\n",
        "    plt.yticks([])\n",
        "    plt.grid(False)\n",
        "    plt.imshow(X_test[i], cmap=plt.cm.binary)\n",
        "    plt.xlabel(y_preds[i])"
      ],
      "execution_count": 0,
      "outputs": [
        {
          "output_type": "display_data",
          "data": {
            "image/png": "[encoded data removed]",
            "text/plain": [
              "<Figure size 1440x288 with 20 Axes>"
            ]
          },
          "metadata": {
            "tags": []
          }
        }
      ]
    },
    {
      "cell_type": "code",
      "metadata": {
        "id": "sQT8M6o65fO-",
        "colab_type": "code",
        "colab": {}
      },
      "source": [
        "# Saving the model to my google drive\n",
        "# model_save_name = 'LeNET' + learning.logs[\"val_accuracy\"] + '.pt'\n",
        "# path = F\"/content/gdrive/My Drive/{model_save_name}\" \n",
        "# torch.save(model.state_dict(), path)"
      ],
      "execution_count": 0,
      "outputs": []
    }
  ]
}